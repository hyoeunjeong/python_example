{
  "nbformat": 4,
  "nbformat_minor": 0,
  "metadata": {
    "colab": {
      "provenance": [],
      "toc_visible": true,
      "authorship_tag": "ABX9TyMw00lTxbLUAAhEMVoZgsbl",
      "include_colab_link": true
    },
    "kernelspec": {
      "name": "python3",
      "display_name": "Python 3"
    },
    "language_info": {
      "name": "python"
    }
  },
  "cells": [
    {
      "cell_type": "markdown",
      "metadata": {
        "id": "view-in-github",
        "colab_type": "text"
      },
      "source": [
        "<a href=\"https://colab.research.google.com/github/hyoeunjeong/python_example/blob/main/0513.ipynb\" target=\"_parent\"><img src=\"https://colab.research.google.com/assets/colab-badge.svg\" alt=\"Open In Colab\"/></a>"
      ]
    },
    {
      "cell_type": "code",
      "execution_count": null,
      "metadata": {
        "id": "h-q7beZbFShg"
      },
      "outputs": [],
      "source": []
    },
    {
      "cell_type": "markdown",
      "source": [
        "#\n",
        "```"
      ],
      "metadata": {
        "id": "rw7YqOT6HgFv"
      }
    },
    {
      "cell_type": "markdown",
      "source": [
        "```\n",
        "# hello World\n",
        "## hello world\n",
        "### hello world\n",
        "\n",
        "- hello world\n",
        "- hello world\n",
        "- hello world\n",
        "\n",
        "1.hello world\n",
        "2.hello world\n",
        "3.hello world\n",
        "```\n",
        "#colab\n",
        "- cturl + enter :현재 셀 실핼\n",
        "- alt +enter :현재 셀 실행 +아래 셀 하나 만들기"
      ],
      "metadata": {
        "id": "mvDFumGLH9Z5"
      }
    },
    {
      "cell_type": "code",
      "source": [
        "i =[10,20,30]\n",
        "i ## 마지막에 한하여 마지막 라인은 print를 사용하지 않는다."
      ],
      "metadata": {
        "colab": {
          "base_uri": "https://localhost:8080/"
        },
        "id": "mjEOCvEIJkj3",
        "outputId": "43b306d1-db41-464c-ffa9-f6161a73075f"
      },
      "execution_count": null,
      "outputs": [
        {
          "output_type": "execute_result",
          "data": {
            "text/plain": [
              "[10, 20, 30]"
            ]
          },
          "metadata": {},
          "execution_count": 1
        }
      ]
    },
    {
      "cell_type": "code",
      "source": [
        "range(0,10)\n",
        "[0,1,2,3,4,5,6,7,8,9] ## 이렇게 나오지 않는 이유\n"
      ],
      "metadata": {
        "id": "NfzkNHcTKtls"
      },
      "execution_count": null,
      "outputs": []
    },
    {
      "cell_type": "code",
      "source": [
        "#range () python2. x에서는 list였습니다.\n",
        "type(range(0,10)) ##왜 range 라는 타입일까"
      ],
      "metadata": {
        "id": "qj4W7Zi6LKqk"
      },
      "execution_count": null,
      "outputs": []
    },
    {
      "cell_type": "markdown",
      "source": [
        "#range()"
      ],
      "metadata": {
        "id": "ZuI0eJMqPCGV"
      }
    },
    {
      "cell_type": "code",
      "source": [
        "#파이썬 속도를 올리기위한 작업 -->최종목표는 c의 속도를 따라잡는 것\n",
        "#range(1000000000000000000)의  데이터를 생성한다면\n",
        "###0~100000000000000000의 숫자를 모두메모리에 올려야 한다.\n",
        "#xrange()라는 것을 만들어서 이를 해결 함\n",
        "#xrange()숫자를 생성하지 않고 ,star,stop,step 값으로 호출할때 하나씩 생성하는 방식을 새롭게 도입했습니다.\n",
        "# xrange가 3.x로 오면서 range가 된 것입니다!"
      ],
      "metadata": {
        "id": "_4e97XtcLcwJ"
      },
      "execution_count": null,
      "outputs": []
    },
    {
      "cell_type": "code",
      "source": [
        "#range()의 인덱싱\n",
        "range(100)[3]"
      ],
      "metadata": {
        "colab": {
          "base_uri": "https://localhost:8080/"
        },
        "id": "yZzGnB_0PhHp",
        "outputId": "03473ada-68aa-4efe-bb48-40153a5d93d1"
      },
      "execution_count": null,
      "outputs": [
        {
          "output_type": "execute_result",
          "data": {
            "text/plain": [
              "3"
            ]
          },
          "metadata": {},
          "execution_count": 2
        }
      ]
    },
    {
      "cell_type": "code",
      "source": [
        "#range()의 슬라이싱\n",
        "range(100)[1:10]"
      ],
      "metadata": {
        "colab": {
          "base_uri": "https://localhost:8080/"
        },
        "id": "c1-VT6r3Ppsk",
        "outputId": "b2d5e075-26a3-4ee1-ce98-4d8808616999"
      },
      "execution_count": null,
      "outputs": [
        {
          "output_type": "execute_result",
          "data": {
            "text/plain": [
              "range(1, 10)"
            ]
          },
          "metadata": {},
          "execution_count": 3
        }
      ]
    },
    {
      "cell_type": "code",
      "source": [
        "# range의 step 음수 값\n",
        "list(range(100,10,-10))  ##[100, 90, 80, 70, 60, 50, 40, 30, 20]\n",
        "##10부터 출력 하려면\n",
        "list(range(100,9,-10))  ##[100, 90, 80, 70, 60, 50, 40, 30, 20, 10]"
      ],
      "metadata": {
        "colab": {
          "base_uri": "https://localhost:8080/"
        },
        "id": "XSjdIcPpP1u9",
        "outputId": "4f13b728-b78d-4956-f721-498746f4b316"
      },
      "execution_count": null,
      "outputs": [
        {
          "output_type": "execute_result",
          "data": {
            "text/plain": [
              "[100, 90, 80, 70, 60, 50, 40, 30, 20, 10]"
            ]
          },
          "metadata": {},
          "execution_count": 7
        }
      ]
    },
    {
      "cell_type": "markdown",
      "source": [
        "#  funtion (함수)"
      ],
      "metadata": {
        "id": "S91AWHnHQg-0"
      }
    },
    {
      "cell_type": "code",
      "source": [
        "##funtion 이라는 것이 왜 필요했을까\n",
        "\n",
        "def hello():\n",
        " x=10  ##이 코드가 반복되니 이 코드의 이름을 hello라고 하고, 이코드 자리에 hello를 넣자\n",
        " y=20\n",
        " print(x+y)\n",
        "\n",
        "hello()\n",
        "\n",
        "a =10\n",
        "\n",
        "hello()\n",
        "\n",
        "b=20\n",
        "\n",
        "hello()\n",
        "\n",
        "c =30\n",
        "hello()\n",
        "a+b\n",
        "\n",
        "hello()\n",
        "\n",
        "a-b"
      ],
      "metadata": {
        "colab": {
          "base_uri": "https://localhost:8080/"
        },
        "id": "dD1bw43D5LXG",
        "outputId": "4cbb6db8-6c68-40ba-e3b8-5315a6347e9a"
      },
      "execution_count": null,
      "outputs": [
        {
          "output_type": "stream",
          "name": "stdout",
          "text": [
            "30\n",
            "30\n",
            "30\n",
            "30\n",
            "30\n"
          ]
        },
        {
          "output_type": "execute_result",
          "data": {
            "text/plain": [
              "-10"
            ]
          },
          "metadata": {},
          "execution_count": 1
        }
      ]
    },
    {
      "cell_type": "code",
      "source": [
        "##두번째 이유\n",
        "##수만줄의 코드도 아래와 같이 함수로 쌓여있으면 '구조 파악'하기 쉽습니다.\n",
        "\n",
        "땅파기()\n",
        "땅다지기()\n",
        "상하수도설치()\n",
        "벽돌쌓기()\n"
      ],
      "metadata": {
        "id": "mFKgGRyH6Nvq"
      },
      "execution_count": null,
      "outputs": []
    },
    {
      "cell_type": "code",
      "source": [
        "#세번째 이유\n",
        "#알지 않아도 되는 코드를 들여다 보지 않아 도됨\n",
        "#추상화\n",
        "#여러분이 자동차를 움직일때 자동차 페달을 밟는다 해서 엔진 뜯어보지 않아도 됨\n",
        "##\n",
        "\n",
        "\n"
      ],
      "metadata": {
        "id": "2E0ZbIZQ63yp"
      },
      "execution_count": null,
      "outputs": []
    },
    {
      "cell_type": "code",
      "source": [
        "def hello():\n",
        "    x=10\n",
        "    y=20\n",
        "    return x+y"
      ],
      "metadata": {
        "id": "E3HaFdiKQmVk"
      },
      "execution_count": null,
      "outputs": []
    },
    {
      "cell_type": "code",
      "source": [
        "def (함수를 만드는)"
      ],
      "metadata": {
        "id": "mnYd_KQb7rO5"
      },
      "execution_count": null,
      "outputs": []
    },
    {
      "cell_type": "code",
      "source": [
        "#파라미터와 아규먼트\n",
        "def xysum(x,y): # 함수를 정의하는 부분\n",
        "    return x+y\n",
        "\n",
        "    xysum(10,20) #함수를 호출한는 곳으로 호출되지 않으면 실행ㄴㄴ"
      ],
      "metadata": {
        "id": "TNy3yxWj70Lw"
      },
      "execution_count": null,
      "outputs": []
    },
    {
      "cell_type": "code",
      "source": [
        "# 파선아실(파라미터는 선언할 때, 아규먼트는 실행할 때)\n",
        "\n",
        "def xysum(x, y): # 함수를 정의하는 부분 (파라미터)\n",
        "    return x + y  ##나를 호출한곳에 찾아가서반환한다,\n",
        "\n",
        "xysum(10, 20) # 함수를 호출하는 부분  (10,20을 아규먼트라 읽는다)  ##이 자리는 10+20 이된다"
      ],
      "metadata": {
        "id": "naYiZ6nE8cVk"
      },
      "execution_count": null,
      "outputs": []
    },
    {
      "cell_type": "code",
      "source": [
        "\n",
        "def xysum(x,y):\n",
        "    return x+y\n",
        "result =xysum(10,20) +xysum(30,40) +xysum(50,60)\n",
        "result"
      ],
      "metadata": {
        "id": "N-ZGrZKe9Cvr"
      },
      "execution_count": null,
      "outputs": []
    },
    {
      "cell_type": "code",
      "source": [
        "\n",
        "def xysum(x,y):\n",
        "\n",
        "   print(x+y)\n",
        "result =xysum(10,20) +xysum(30,40) +xysum(50,60)\n",
        "result"
      ],
      "metadata": {
        "colab": {
          "base_uri": "https://localhost:8080/",
          "height": 237
        },
        "id": "bdAQ-GQE9b0V",
        "outputId": "1d2d2502-e2d9-4a6e-b0cf-ae332ffcf81c"
      },
      "execution_count": null,
      "outputs": [
        {
          "output_type": "stream",
          "name": "stdout",
          "text": [
            "30\n",
            "70\n"
          ]
        },
        {
          "output_type": "error",
          "ename": "TypeError",
          "evalue": "unsupported operand type(s) for +: 'NoneType' and 'NoneType'",
          "traceback": [
            "\u001b[0;31m---------------------------------------------------------------------------\u001b[0m",
            "\u001b[0;31mTypeError\u001b[0m                                 Traceback (most recent call last)",
            "\u001b[0;32m<ipython-input-4-f55d4c45280c>\u001b[0m in \u001b[0;36m<cell line: 0>\u001b[0;34m()\u001b[0m\n\u001b[1;32m      2\u001b[0m \u001b[0;34m\u001b[0m\u001b[0m\n\u001b[1;32m      3\u001b[0m    \u001b[0mprint\u001b[0m\u001b[0;34m(\u001b[0m\u001b[0mx\u001b[0m\u001b[0;34m+\u001b[0m\u001b[0my\u001b[0m\u001b[0;34m)\u001b[0m\u001b[0;34m\u001b[0m\u001b[0;34m\u001b[0m\u001b[0m\n\u001b[0;32m----> 4\u001b[0;31m \u001b[0mresult\u001b[0m \u001b[0;34m=\u001b[0m\u001b[0mxysum\u001b[0m\u001b[0;34m(\u001b[0m\u001b[0;36m10\u001b[0m\u001b[0;34m,\u001b[0m\u001b[0;36m20\u001b[0m\u001b[0;34m)\u001b[0m \u001b[0;34m+\u001b[0m\u001b[0mxysum\u001b[0m\u001b[0;34m(\u001b[0m\u001b[0;36m30\u001b[0m\u001b[0;34m,\u001b[0m\u001b[0;36m40\u001b[0m\u001b[0;34m)\u001b[0m \u001b[0;34m+\u001b[0m\u001b[0mxysum\u001b[0m\u001b[0;34m(\u001b[0m\u001b[0;36m50\u001b[0m\u001b[0;34m,\u001b[0m\u001b[0;36m60\u001b[0m\u001b[0;34m)\u001b[0m\u001b[0;34m\u001b[0m\u001b[0;34m\u001b[0m\u001b[0m\n\u001b[0m\u001b[1;32m      5\u001b[0m \u001b[0mresult\u001b[0m\u001b[0;34m\u001b[0m\u001b[0;34m\u001b[0m\u001b[0m\n",
            "\u001b[0;31mTypeError\u001b[0m: unsupported operand type(s) for +: 'NoneType' and 'NoneType'"
          ]
        }
      ]
    },
    {
      "cell_type": "code",
      "source": [
        "None\n",
        "print(None)"
      ],
      "metadata": {
        "id": "9y3uhoHg92pV"
      },
      "execution_count": null,
      "outputs": []
    },
    {
      "cell_type": "code",
      "source": [
        "def a(x,y):\n",
        "    z =x+y\n",
        "\n",
        "    print(a(10,20))"
      ],
      "metadata": {
        "id": "Gx9zloqu9sb0"
      },
      "execution_count": null,
      "outputs": []
    },
    {
      "cell_type": "code",
      "source": [
        "def a(x,y):\n",
        "    z =x+y\n",
        "    return None\n",
        "    print(a(10,20))  ## 나를 호출한 곳에 그대로 입력  print(None)"
      ],
      "metadata": {
        "id": "ZmmulE8S-AC9"
      },
      "execution_count": null,
      "outputs": []
    },
    {
      "cell_type": "code",
      "source": [
        "#파라미터가 있는 함수\n",
        "def hello(a):\n",
        "    return a\n",
        "\n",
        "##파라미터가 없는 함수\n",
        "def hello():\n",
        "    return 'Hello world'\n"
      ],
      "metadata": {
        "id": "Vd1NtLBf_NGB"
      },
      "execution_count": null,
      "outputs": []
    },
    {
      "cell_type": "code",
      "source": [
        "##리턴 값이 있는 함수\n",
        "def add(a,b):\n",
        "    return a+b\n",
        "##리턴 값이 없는 함수\n",
        "def add(a,b):\n",
        "    print(a+b)  ##None 값 출력"
      ],
      "metadata": {
        "id": "6ejcUz3j_uXv"
      },
      "execution_count": null,
      "outputs": []
    },
    {
      "cell_type": "code",
      "source": [
        "\n",
        "##문제1: 주식 그래프를 그리려고 한다. 주시그래프는 2X +15와 같은 형식으로 그려지고 x는10이라고 주어졌을때 y값이 얼마인지 구하는 함수를 만드세요\n",
        "\n",
        "def solution(x):\n",
        "  return 2*x +15\n",
        "\n",
        "solution(10)\n"
      ],
      "metadata": {
        "colab": {
          "base_uri": "https://localhost:8080/"
        },
        "id": "5M7Laf0bAFmN",
        "outputId": "e4e6dbfa-9285-4b17-ae19-ce70fa4624e9"
      },
      "execution_count": null,
      "outputs": [
        {
          "output_type": "stream",
          "name": "stdout",
          "text": [
            "35\n"
          ]
        }
      ]
    },
    {
      "cell_type": "code",
      "source": [
        "# map을 아직 안배웠어요!\n",
        "# map은 나중에 할 예정입니다. 지금 이 코드는 '어떻게 활용하는가?'에 대한 얘기입니다.\n",
        "list(map(solution, range(20)))"
      ],
      "metadata": {
        "id": "DLjLrVOZK0Im"
      },
      "execution_count": null,
      "outputs": []
    },
    {
      "cell_type": "code",
      "source": [
        "# 실제 모의 주식 그래프는 아래와 같이 그립니다. 이런 식으로 해서 그립니다.\n",
        "import random\n",
        "\n",
        "l = [15, 17, 19, 21, 23, 25, 27, 29, 31, 33]\n",
        "result = []\n",
        "for i in l:\n",
        "    result = result + [i + random.randint(-5, 5)]\n",
        "result"
      ],
      "metadata": {
        "id": "a0qVPYAwK46z"
      },
      "execution_count": null,
      "outputs": []
    },
    {
      "cell_type": "code",
      "source": [
        "# 문제2: [10, 20, 30] + [1, 2, 3]이라고 했을 때 이 두 행렬을 요소별로 더하는 함수를 만드세요.\n",
        "\n",
        "def solution(a, b):\n",
        "  result=[] ##결과값을 받을 리스트\n",
        "  for i in range(len(a)): ## 인덱스 자체를 사용 ##a의 값만큼 반복\n",
        "   result.append (a[i]+b[i]) ##리스트에 결과를 추가한다.\n",
        "\n",
        "print(result)\n",
        "solution([10, 20, 30], [1, 2, 3,4])"
      ],
      "metadata": {
        "colab": {
          "base_uri": "https://localhost:8080/"
        },
        "id": "-TcrKomHBSUk",
        "outputId": "24b79809-df17-4e1b-e438-4cc562a30937"
      },
      "execution_count": null,
      "outputs": [
        {
          "output_type": "stream",
          "name": "stdout",
          "text": [
            "210\n"
          ]
        }
      ]
    },
    {
      "cell_type": "code",
      "source": [
        "# 문제2: [10, 20, 30] + [1, 2, 3]이라고 했을 때 이 두 행렬을 요소별로 더하는 함수를 만드세요.\n",
        "\n",
        "def solution(a, b):\n",
        "  result=[] ##결과값을 받을 리스트\n",
        "  for i,v in enumerate(a): ##  v에 [10,20,30] ,인덱스 0을 i에 넣어준다  ### 딕셔너리와 튜플에서 사용가능하다\n",
        "   a[i]=v+b[i] ##리스트에 결과를 추가한다.\n",
        "   return a\n",
        "solution([10, 20, 30], [1, 2, 3,4])"
      ],
      "metadata": {
        "colab": {
          "base_uri": "https://localhost:8080/"
        },
        "outputId": "0ee5d1a7-cc08-4954-bf69-24023f217581",
        "id": "VsQwcS-hL6ka"
      },
      "execution_count": null,
      "outputs": [
        {
          "output_type": "execute_result",
          "data": {
            "text/plain": [
              "[11, 20, 30]"
            ]
          },
          "metadata": {},
          "execution_count": 59
        }
      ]
    },
    {
      "cell_type": "code",
      "source": [
        "list(enumerate({'one':100, 'two':200}))"
      ],
      "metadata": {
        "id": "KTzGHWk0Obc5"
      },
      "execution_count": null,
      "outputs": []
    },
    {
      "cell_type": "code",
      "source": [
        "# 문제2: [10, 20, 30] + [1, 2, 3]이라고 했을 때 이 두 행렬을 요소별로 더하는 함수를 만드세요.\n",
        "##관습적으로 안쓰는 코드는 변수 _에 할당합니다.\n",
        "def solution(a, b):\n",
        "    result = []\n",
        "    for i, _ in enumerate(a):\n",
        "        result.append(a[i] + b[i])\n",
        "    return result\n",
        "\n",
        "solution([10, 20, 30], [1, 2, 3])"
      ],
      "metadata": {
        "id": "tKG8pkRaNfY7",
        "colab": {
          "base_uri": "https://localhost:8080/"
        },
        "outputId": "b34c9918-4a35-447f-a41c-a28519acd526"
      },
      "execution_count": null,
      "outputs": [
        {
          "output_type": "execute_result",
          "data": {
            "text/plain": [
              "[11, 22, 33]"
            ]
          },
          "metadata": {},
          "execution_count": 64
        }
      ]
    },
    {
      "cell_type": "code",
      "source": [
        "# 문제2: [10, 20, 30] + [1, 2, 3]이라고 했을 때 이 두 행렬을 요소별로 더하는 함수를 만드세요.\n",
        "# 좀 더 우아한 풀이\n",
        "\n",
        "def solution(a, b):\n",
        "    return list(map(sum, (zip([10, 20, 30], [1, 2, 3]))))\n",
        "\n",
        "solution([10, 20, 30], [1, 2, 3])"
      ],
      "metadata": {
        "id": "nzGMqKOKL4TU"
      },
      "execution_count": null,
      "outputs": []
    },
    {
      "cell_type": "code",
      "source": [
        "# 문제3: 행렬(리스트의 리스트)의 모든 요소에 특정 숫자를 곱하는 함수를 만드세요.\n",
        "# 예: [1, 2, 3, 4] * 2 = [2, 4, 6, 8]\n",
        "\n",
        "def solution(matrix, multiplier):\n",
        "    result =[]  ##결과 받을 리스트 만들기\n",
        "    for i in matrix:  ##요소 기반해서 사용\n",
        "     result.append(i*multiplier)  ##리스트에 결과를 추가한다.\n",
        "   return result\n",
        "solution([1, 2, 3, 4], 2)"
      ],
      "metadata": {
        "colab": {
          "base_uri": "https://localhost:8080/"
        },
        "id": "433Vz8-bBavW",
        "outputId": "3a6ad034-82c5-4041-d6f1-a636fa97ff41"
      },
      "execution_count": null,
      "outputs": [
        {
          "output_type": "stream",
          "name": "stdout",
          "text": [
            "[2, 4, 6, 8]\n"
          ]
        }
      ]
    },
    {
      "cell_type": "code",
      "source": [
        "# 문제3: 행렬(리스트의 리스트)의 모든 요소에 특정 숫자를 곱하는 함수를 만드세요.\n",
        "# 예: [1, 2, 3, 4] * 2 = [2, 4, 6, 8]\n",
        "\n",
        "def solution(matrix, multiplier):\n",
        "    return [i * multiplier for i in matrix]\n",
        "\n",
        "solution([1, 2, 3, 4], 2)"
      ],
      "metadata": {
        "id": "Z5Oz2ORdOsby"
      },
      "execution_count": null,
      "outputs": []
    },
    {
      "cell_type": "code",
      "source": [
        "s= []\n",
        "for i in range(1,10,2):\n",
        "    s.append(i)  ##append 만가지고 나오면 됨\n",
        "s"
      ],
      "metadata": {
        "colab": {
          "base_uri": "https://localhost:8080/"
        },
        "id": "ziHPKBcBPT-q",
        "outputId": "a6ea7245-7c04-4e5b-fb2c-0f2af6301d06"
      },
      "execution_count": null,
      "outputs": [
        {
          "output_type": "execute_result",
          "data": {
            "text/plain": [
              "[1, 3, 5, 7, 9]"
            ]
          },
          "metadata": {},
          "execution_count": 60
        }
      ]
    },
    {
      "cell_type": "code",
      "source": [
        "[i for i in range(1, 10, 2)]"
      ],
      "metadata": {
        "id": "j9nrU9qhPn7o"
      },
      "execution_count": null,
      "outputs": []
    },
    {
      "cell_type": "code",
      "source": [
        "# 아래와 같은 코드는 가독성이 떨어지기 때문에 좋은 코드라고 보기 어렵습니다.\n",
        "# 파이썬에서는 읽기 좋은 코드에 가치를 높게 평가합니다!\n",
        "[f'{i} X {j} = {i * j}' for i in range(2, 10) for j in range(1, 10)]"
      ],
      "metadata": {
        "id": "ghegfgqeQM6e"
      },
      "execution_count": null,
      "outputs": []
    },
    {
      "cell_type": "code",
      "source": [
        "##문제 4 번"
      ],
      "metadata": {
        "id": "m0lOkdktQOHJ"
      },
      "execution_count": null,
      "outputs": []
    },
    {
      "cell_type": "code",
      "source": [
        "num_list(파라미터)"
      ],
      "metadata": {
        "id": "4tjrMKVYQXFa"
      },
      "execution_count": null,
      "outputs": []
    },
    {
      "cell_type": "code",
      "source": [
        "# 문제4: 프로그래머스(카카오 코딩 테스트 보는 공간)에 문제 하나 풀어보세요.\n",
        "# 기업에서 이런식으로 알고리즘 테스트가 나옵니다.\n",
        "# https://school.programmers.co.kr/learn/courses/30/lessons/181928\n",
        "\n",
        "def solution(num_list):\n",
        "    짝수 = ''\n",
        "    홀수 = ''\n",
        "    for i in num_list:\n",
        "        if i % 2 == 0:\n",
        "            짝수 += str(i)\n",
        "        else:\n",
        "            홀수 += str(i)\n",
        "    answer = int(짝수) + int(홀수)\n",
        "    return answer\n",
        "\n",
        "solution([3, 4, 5, 2, 1])"
      ],
      "metadata": {
        "id": "T9tlklBnTegJ"
      },
      "execution_count": null,
      "outputs": []
    },
    {
      "cell_type": "code",
      "source": [
        "# 파라미터에 기본값이 정해져 있는 경우!\n",
        "\n",
        "def add(x = 10, y = 20):\n",
        "    return x + y\n",
        "\n",
        "add()"
      ],
      "metadata": {
        "colab": {
          "base_uri": "https://localhost:8080/"
        },
        "id": "D-BHhBkrUiug",
        "outputId": "e6f75f91-6306-4027-f5fb-2c95ad3f1765"
      },
      "execution_count": null,
      "outputs": [
        {
          "output_type": "execute_result",
          "data": {
            "text/plain": [
              "30"
            ]
          },
          "metadata": {},
          "execution_count": 61
        }
      ]
    },
    {
      "cell_type": "code",
      "source": [
        "#지역변수 전역변수\n",
        "\n",
        "함수에서 선언된 변수는 휘발된다."
      ],
      "metadata": {
        "id": "yPLaFIpwUrYt"
      },
      "execution_count": null,
      "outputs": []
    },
    {
      "cell_type": "code",
      "source": [
        "# 지역변수 전역변수\n",
        "\n",
        "x = 10\n",
        "\n",
        "def hello():\n",
        "    print(x)\n",
        "\n",
        "hello()"
      ],
      "metadata": {
        "id": "royZ4yzSWdqh"
      },
      "execution_count": null,
      "outputs": []
    },
    {
      "cell_type": "code",
      "source": [
        "x = 10\n",
        "\n",
        "def hello():\n",
        "    x += 1\n",
        "\n",
        "hello()"
      ],
      "metadata": {
        "id": "WVsrxxDbVxuJ"
      },
      "execution_count": null,
      "outputs": []
    },
    {
      "cell_type": "code",
      "source": [
        "# 지역변수 전역변수\n",
        "\n",
        "x = 10\n",
        "\n",
        "def hello():\n",
        "    print(x) # 밖에 있는 변수는 읽을 수는 있습니다.\n",
        "\n",
        "hello()"
      ],
      "metadata": {
        "id": "-F5SCiUvWuZJ"
      },
      "execution_count": null,
      "outputs": []
    },
    {
      "cell_type": "code",
      "source": [
        "x = 10  ##전역변수\n",
        "\n",
        "def hello():  ##지역변수\n",
        "    x += 1 # 밖에 있는 변수를 수정할 수는 없습니다.\n",
        "\n",
        "hello()\n",
        "print(x)"
      ],
      "metadata": {
        "id": "UBU1EfP7Wxze"
      },
      "execution_count": null,
      "outputs": []
    },
    {
      "cell_type": "code",
      "source": [
        "x=10\n",
        "x+=10\n",
        "print(x)"
      ],
      "metadata": {
        "colab": {
          "base_uri": "https://localhost:8080/"
        },
        "id": "WB_VEHAWXrRz",
        "outputId": "1f25a9a8-e37f-4ce8-91fc-48145ce42a18"
      },
      "execution_count": null,
      "outputs": [
        {
          "output_type": "stream",
          "name": "stdout",
          "text": [
            "20\n"
          ]
        }
      ]
    },
    {
      "cell_type": "code",
      "source": [
        "locals()"
      ],
      "metadata": {
        "colab": {
          "base_uri": "https://localhost:8080/"
        },
        "id": "MkVYeoDTYVC-",
        "outputId": "6e37c212-35ac-432d-9add-401b984106d2"
      },
      "execution_count": null,
      "outputs": [
        {
          "output_type": "execute_result",
          "data": {
            "text/plain": [
              "{'__name__': '__main__',\n",
              " '__doc__': 'Automatically created module for IPython interactive environment',\n",
              " '__package__': None,\n",
              " '__loader__': None,\n",
              " '__spec__': None,\n",
              " '__builtin__': <module 'builtins' (built-in)>,\n",
              " '__builtins__': <module 'builtins' (built-in)>,\n",
              " '_ih': ['',\n",
              "  '##funtion 이라는 것이 왜 필요했을까 \\n\\ndef hello(): \\n x=10  ##이 코드가 반복되니 이 코드의 이름을 hello라고 하고, 이코드 자리에 hello를 넣자 \\n y=20\\n print(x+y)\\n\\nhello()\\n\\na =10\\n\\nhello()\\n\\nb=20\\n\\nhello()\\n\\nc =30\\nhello()\\na+b\\n\\nhello()\\n\\na-b',\n",
              "  'def xysum(x,y):\\n    return x+y\\nresult =xysum(10,20) +xysum(30,40) +xysum(50,60)\\nresult',\n",
              "  'def xysum(x,y):\\n   print(x+y)\\nresult =xysum(10,20) +xysum(30,40) +xysum(50,60)\\nresult',\n",
              "  'def xysum(x,y):\\n    \\n   print(x+y)\\nresult =xysum(10,20) +xysum(30,40) +xysum(50,60)\\nresult',\n",
              "  'def a(x,y):\\n    z =x+y\\n\\n    print(a(10,20))',\n",
              "  'def a(x,y):\\n    z =x+y\\n\\n    print(a(10,20))',\n",
              "  'def a(x,y):\\n    z =x+y\\n\\n    print(a(10,20))',\n",
              "  'def a(x,y):\\n    z =x+y\\n    return None\\n    print(a(10,20))',\n",
              "  'def a(x,y):\\n    z =x+y\\n    return None\\n    print(a(10,20))',\n",
              "  'def a(x,y):\\n    z =x+y\\n    return None\\n    print(a(10,20))',\n",
              "  'def a(x,y):\\n    z =x+y\\n    return None\\n    print(a(10,20))',\n",
              "  'def a(x,y):\\n    z =x+y\\n    return None\\n    print(a(10,20))',\n",
              "  'def a(x,y):\\n    z =x+y\\n    return None\\n    print(a(10,20))',\n",
              "  'def a(x,y):\\n    z =x+y\\n    return None\\n    print(a(10,20))',\n",
              "  'def a(x,y):\\n    z =x+y\\n\\n    print(a(10,20))',\n",
              "  'def a(x,y):\\n    z =x+y\\n\\n    print(a(10,20))',\n",
              "  \"print(print(print('hello')))\\nhello \\nNone\\nNone\",\n",
              "  \"print(print(print('hello')))\",\n",
              "  \"print(print(print('hello')))\",\n",
              "  '##문제1: 주식 그래프를 그리려고 한다. 주시그래프는 2X +15와 같은 형식으로 그려지고 x는10이라고 주어졌을때 y값이 얼마인지 구하는 함수를 만드세요\\n\\ndef solution(x):\\n  y= 2*x +15\\n\\nsolution(10)',\n",
              "  '##문제1: 주식 그래프를 그리려고 한다. 주시그래프는 2X +15와 같은 형식으로 그려지고 x는10이라고 주어졌을때 y값이 얼마인지 구하는 함수를 만드세요\\n\\ndef solution(x):\\n  y= 2*x +15\\n\\nsolution(10)',\n",
              "  '##문제1: 주식 그래프를 그리려고 한다. 주시그래프는 2X +15와 같은 형식으로 그려지고 x는10이라고 주어졌을때 y값이 얼마인지 구하는 함수를 만드세요\\n\\ndef solution(x):\\n  y= 2*x +15\\n\\nsolution(10)',\n",
              "  '##문제1: 주식 그래프를 그리려고 한다. 주시그래프는 2X +15와 같은 형식으로 그려지고 x는10이라고 주어졌을때 y값이 얼마인지 구하는 함수를 만드세요\\n\\ndef solution(x):\\n  y= 2*x +15\\n\\nsolution(10)',\n",
              "  '##문제1: 주식 그래프를 그리려고 한다. 주시그래프는 2X +15와 같은 형식으로 그려지고 x는10이라고 주어졌을때 y값이 얼마인지 구하는 함수를 만드세요\\n\\ndef solution(x):\\n  y= 2*x +15 \\n \\nsolution(10)',\n",
              "  '##문제1: 주식 그래프를 그리려고 한다. 주시그래프는 2X +15와 같은 형식으로 그려지고 x는10이라고 주어졌을때 y값이 얼마인지 구하는 함수를 만드세요\\n\\ndef solution(x):\\n  y= 2*x +15 \\n \\nsolution(10)',\n",
              "  '##문제1: 주식 그래프를 그리려고 한다. 주시그래프는 2X +15와 같은 형식으로 그려지고 x는10이라고 주어졌을때 y값이 얼마인지 구하는 함수를 만드세요\\n\\ndef solution(x):\\n  y= 2*x +15 \\n \\nsolution(10)',\n",
              "  '##문제1: 주식 그래프를 그리려고 한다. 주시그래프는 2X +15와 같은 형식으로 그려지고 x는10이라고 주어졌을때 y값이 얼마인지 구하는 함수를 만드세요\\n\\ndef solution(x):\\n  y= 2*x +15 \\n \\nsolution(10)',\n",
              "  '##문제1: 주식 그래프를 그리려고 한다. 주시그래프는 2X +15와 같은 형식으로 그려지고 x는10이라고 주어졌을때 y값이 얼마인지 구하는 함수를 만드세요\\n\\ndef solution(x):\\n  y= 2*x +15 \\n \\nprint(solution(10))',\n",
              "  '##문제1: 주식 그래프를 그리려고 한다. 주시그래프는 2X +15와 같은 형식으로 그려지고 x는10이라고 주어졌을때 y값이 얼마인지 구하는 함수를 만드세요\\n\\ndef solution(x):\\n  y= 2*x +15 \\n \\nprint(solution(10))',\n",
              "  '##문제1: 주식 그래프를 그리려고 한다. 주시그래프는 2X +15와 같은 형식으로 그려지고 x는10이라고 주어졌을때 y값이 얼마인지 구하는 함수를 만드세요\\n\\ndef solution(x):\\n  y= 2*x +15 \\n  print(y)\\nsolution(10)',\n",
              "  '##문제1: 주식 그래프를 그리려고 한다. 주시그래프는 2X +15와 같은 형식으로 그려지고 x는10이라고 주어졌을때 y값이 얼마인지 구하는 함수를 만드세요\\n\\ndef solution(x):\\n  y= 2*x +15 \\n  print(y)\\nsolution(10)',\n",
              "  '##문제1: 주식 그래프를 그리려고 한다. 주시그래프는 2X +15와 같은 형식으로 그려지고 x는10이라고 주어졌을때 y값이 얼마인지 구하는 함수를 만드세요\\n\\ndef solution(x):\\n  y= 2*x +15 \\n  print(y)\\nsolution(10)',\n",
              "  '##문제1: 주식 그래프를 그리려고 한다. 주시그래프는 2X +15와 같은 형식으로 그려지고 x는10이라고 주어졌을때 y값이 얼마인지 구하는 함수를 만드세요\\n\\ndef solution(x):\\n  y= 2*x +15 \\n  print(y)\\nsolution(10)',\n",
              "  '# 문제2: [10, 20, 30] + [1, 2, 3]이라고 했을 때 이 두 행렬을 요소별로 더하는 함수를 만드세요.\\n\\ndef solution(a, b):\\n  result=[]\\n  for i in range(len(a))\\n  result.append(a+b)\\nprint(result)\\nsolution([10, 20, 30], [1, 2, 3])',\n",
              "  '# 문제2: [10, 20, 30] + [1, 2, 3]이라고 했을 때 이 두 행렬을 요소별로 더하는 함수를 만드세요.\\n\\ndef solution(a, b):\\n  result=[]\\n  for i in range(len(a))\\n  result.append(a(i)+b(i))\\nprint(result)\\nsolution([10, 20, 30], [1, 2, 3])',\n",
              "  '# 문제2: [10, 20, 30] + [1, 2, 3]이라고 했을 때 이 두 행렬을 요소별로 더하는 함수를 만드세요.\\n\\ndef solution(a, b):\\n  result=[]\\n  for i in range(len(a))\\n  result.append (a[i],b[i])\\n\\nprint(result)\\nsolution([10, 20, 30], [1, 2, 3])',\n",
              "  '# 문제2: [10, 20, 30] + [1, 2, 3]이라고 했을 때 이 두 행렬을 요소별로 더하는 함수를 만드세요.\\n\\ndef solution(a, b):\\n  result=[]\\nfor i in range(len(a)):\\n  result.append (a[i],b[i])\\n\\nprint(result)\\nsolution([10, 20, 30], [1, 2, 3])',\n",
              "  '# 문제2: [10, 20, 30] + [1, 2, 3]이라고 했을 때 이 두 행렬을 요소별로 더하는 함수를 만드세요.\\n\\ndef solution(a, b):\\n  result=[]\\n  for i in range(len(a)):\\n   result.append (a[i],b[i])\\n\\nprint(result)\\nsolution([10, 20, 30], [1, 2, 3])',\n",
              "  '# 문제2: [10, 20, 30] + [1, 2, 3]이라고 했을 때 이 두 행렬을 요소별로 더하는 함수를 만드세요.\\n\\ndef solution(a, b):\\n  result=[]\\n  for i in range(len(a)):\\n   result.append (a[i]+b[i])\\n\\nprint(result)\\nsolution([10, 20, 30], [1, 2, 3])',\n",
              "  '# 문제2: [10, 20, 30] + [1, 2, 3]이라고 했을 때 이 두 행렬을 요소별로 더하는 함수를 만드세요.\\n\\ndef solution(a, b):\\n  result=[]\\n  for i in range(len(a)):\\n   result.append (a[i]+b[i])\\n\\nprint(result)\\nsolution([10, 20, 30], [1, 2, 3])',\n",
              "  '# 문제2: [10, 20, 30] + [1, 2, 3]이라고 했을 때 이 두 행렬을 요소별로 더하는 함수를 만드세요.\\n\\ndef solution(a, b):\\n  result=[]\\n  for i in range(len(a)):\\n   result.append (a[i]+b[i])\\n\\nprint(result)\\nsolution([10, 20, 30], [1, 2, 3])',\n",
              "  '# 문제2: [10, 20, 30] + [1, 2, 3]이라고 했을 때 이 두 행렬을 요소별로 더하는 함수를 만드세요.\\n\\ndef solution(a, b):\\n  result=[]\\n  for i in range(len(a)):\\n   result.append (a[i]+b[i])\\n\\nprint(result)\\nsolution([10, 20, 30], [1, 2, 3])',\n",
              "  '# 문제3: 행렬(리스트의 리스트)의 모든 요소에 특정 숫자를 곱하는 함수를 만드세요.\\n# 예: [1, 2, 3, 4] * 2 = [2, 4, 6, 8]\\n\\ndef solution(matrix, multiplier):\\n    result =[]\\n    for i in range(len(a)):\\n        i * 2 \\n    print (result)\\nsolution([1, 2, 3, 4], 2)',\n",
              "  '# 문제3: 행렬(리스트의 리스트)의 모든 요소에 특정 숫자를 곱하는 함수를 만드세요.\\n# 예: [1, 2, 3, 4] * 2 = [2, 4, 6, 8]\\n\\ndef solution(matrix, multiplier):\\n    result =[]\\n    for i in range(len(matrix)):\\n        i * 2 \\n    print (result)\\nsolution([1, 2, 3, 4], 2)',\n",
              "  '# 문제3: 행렬(리스트의 리스트)의 모든 요소에 특정 숫자를 곱하는 함수를 만드세요.\\n# 예: [1, 2, 3, 4] * 2 = [2, 4, 6, 8]\\n\\ndef solution(matrix, multiplier):\\n    result =[]\\n    for i in range(len(matrix)):\\n        result.append(matrix*multiplier) \\n    print (result)\\nsolution([1, 2, 3, 4], 2)',\n",
              "  '# 문제3: 행렬(리스트의 리스트)의 모든 요소에 특정 숫자를 곱하는 함수를 만드세요.\\n# 예: [1, 2, 3, 4] * 2 = [2, 4, 6, 8]\\n\\ndef solution(matrix, multiplier):\\n    result =[]\\n    for i in range(len(matrix)):\\n        result.append(ix*multiplier) \\n    print (result)\\nsolution([1, 2, 3, 4], 2)',\n",
              "  '# 문제3: 행렬(리스트의 리스트)의 모든 요소에 특정 숫자를 곱하는 함수를 만드세요.\\n# 예: [1, 2, 3, 4] * 2 = [2, 4, 6, 8]\\n\\ndef solution(matrix, multiplier):\\n    result =[]\\n    for i in range(len(matrix)):\\n        result.append(ix*multiplier) \\n    print (result)\\nsolution([1, 2, 3, 4], 2)',\n",
              "  '# 문제3: 행렬(리스트의 리스트)의 모든 요소에 특정 숫자를 곱하는 함수를 만드세요.\\n# 예: [1, 2, 3, 4] * 2 = [2, 4, 6, 8]\\n\\ndef solution(matrix, multiplier):\\n    result =[]\\n    for i in range(len(matrix)):\\n        result.append(i*multiplier) \\n    print (result)\\nsolution([1, 2, 3, 4], 2)',\n",
              "  '# 문제3: 행렬(리스트의 리스트)의 모든 요소에 특정 숫자를 곱하는 함수를 만드세요.\\n# 예: [1, 2, 3, 4] * 2 = [2, 4, 6, 8]\\n\\ndef solution(matrix, multiplier):\\n    result =[]\\n    for i in range(len(matrix)):\\n        result.append(i*matrix) \\n    print (result)\\nsolution([1, 2, 3, 4], 2)',\n",
              "  '# 문제3: 행렬(리스트의 리스트)의 모든 요소에 특정 숫자를 곱하는 함수를 만드세요.\\n# 예: [1, 2, 3, 4] * 2 = [2, 4, 6, 8]\\n\\ndef solution(matrix, multiplier):\\n    result =[]  ##결과 받을 리스트 만들기 \\n    for i in matrix:  ##요소 기반해서 사용\\n     result.append(i*multiplier)  ##리스트에 결과를 추가한다.\\n    print (result)\\nsolution([1, 2, 3, 4], 2)',\n",
              "  '# 문제2: [10, 20, 30] + [1, 2, 3]이라고 했을 때 이 두 행렬을 요소별로 더하는 함수를 만드세요.\\n\\ndef solution(a, b):\\n  result=[] ##결과값을 받을 리스트 \\n  for i in range(len(a)): ## 인덱스 자체를 사용\\n   result.append (a[i]+b[i]) ##리스트에 결과를 추가한다.\\n\\nprint(result)\\nsolution([10, 20, 30], [1, 2, 3])',\n",
              "  '# 문제2: [10, 20, 30] + [1, 2, 3]이라고 했을 때 이 두 행렬을 요소별로 더하는 함수를 만드세요.\\n\\ndef solution(a, b):\\n  result=[] ##결과값을 받을 리스트 \\n  for i in range(len(a)): ## 인덱스 자체를 사용\\n   result.append (a[i]+b[i]) ##리스트에 결과를 추가한다.\\n\\nprint(result)\\nsolution([10, 20, 30], [1, 2, 3])',\n",
              "  '# 문제2: [10, 20, 30] + [1, 2, 3]이라고 했을 때 이 두 행렬을 요소별로 더하는 함수를 만드세요.\\n\\ndef solution(a, b):\\n  result=[] ##결과값을 받을 리스트 \\n  for i in range(len(a)): ## 인덱스 자체를 사용\\n   result.append (a[i]+b[i]) ##리스트에 결과를 추가한다.\\n\\nprint(result)\\nsolution([10, 20, 30], [1, 2, 3])',\n",
              "  '# 문제2: [10, 20, 30] + [1, 2, 3]이라고 했을 때 이 두 행렬을 요소별로 더하는 함수를 만드세요.\\n\\ndef solution(a, b):\\n  result=[] ##결과값을 받을 리스트 \\n  for i in range(len(a)): ## 인덱스 자체를 사용 ##a의 값만큼 반복\\n   result.append (a[i]+b[i]) ##리스트에 결과를 추가한다.\\n\\nprint(result)\\nsolution([10, 20, 30,40], [1, 2, 3])',\n",
              "  '# 문제2: [10, 20, 30] + [1, 2, 3]이라고 했을 때 이 두 행렬을 요소별로 더하는 함수를 만드세요.\\n\\ndef solution(a, b):\\n  result=[] ##결과값을 받을 리스트 \\n  for i in range(len(a)): ## 인덱스 자체를 사용 ##a의 값만큼 반복\\n   result.append (a[i]+b[i]) ##리스트에 결과를 추가한다.\\n\\nprint(result)\\nsolution([10, 20, 30], [1, 2, 3,4])',\n",
              "  '# 문제2: [10, 20, 30] + [1, 2, 3]이라고 했을 때 이 두 행렬을 요소별로 더하는 함수를 만드세요.\\n\\ndef solution(a, b):\\n  result=[] ##결과값을 받을 리스트 \\n  for i in range(len(a)): ## 인덱스 자체를 사용 ##a의 값만큼 반복\\n   result.append (a[i]+b[i]) ##리스트에 결과를 추가한다.\\n\\nprint(result)\\nsolution([10, 20, 30], [1, 2, 3,4])',\n",
              "  '# 문제2: [10, 20, 30] + [1, 2, 3]이라고 했을 때 이 두 행렬을 요소별로 더하는 함수를 만드세요.\\n\\ndef solution(a, b):\\n  result=[] ##결과값을 받을 리스트\\n  for i,v in enumerate(a): ##  v에 [10,20,30] ,인덱스 0을 i에 넣어준다\\n   a[i]=v+b[i] ##리스트에 결과를 추가한다.\\n   return a\\nsolution([10, 20, 30], [1, 2, 3,4])',\n",
              "  '# 문제2: [10, 20, 30] + [1, 2, 3]이라고 했을 때 이 두 행렬을 요소별로 더하는 함수를 만드세요.\\n\\ndef solution(a, b):\\n  result=[] ##결과값을 받을 리스트\\n  for i,v in enumerate(a): ##  v에 [10,20,30] ,인덱스 0을 i에 넣어준다\\n   a[i]=v+b[i] ##리스트에 결과를 추가한다.\\n   return a\\nsolution([10, 20, 30], [1, 2, 3,4])',\n",
              "  '# 문제2: [10, 20, 30] + [1, 2, 3]이라고 했을 때 이 두 행렬을 요소별로 더하는 함수를 만드세요.\\n\\ndef solution(a, b):\\n  result=[] ##결과값을 받을 리스트\\n  for i,v in enumerate(a): ##  v에 [10,20,30] ,인덱스 0을 i에 넣어준다\\n   a[i]=v+b[i] ##리스트에 결과를 추가한다.\\n   return a\\nsolution([10, 20, 30], [1, 2, 3,4])',\n",
              "  's= []\\nfor i in range(1,10,2):\\n    s.append(i)\\ns',\n",
              "  '# 파라미터에 기본값이 정해져 있는 경우!\\n\\ndef add(x = 10, y = 20):\\n    return x + y\\n\\nadd()',\n",
              "  'x=10\\nx+=10\\nprint(x)',\n",
              "  'locals()'],\n",
              " '_oh': {1: -10,\n",
              "  2: 210,\n",
              "  57: [11, 20, 30],\n",
              "  58: [11, 20, 30],\n",
              "  59: [11, 20, 30],\n",
              "  60: [1, 3, 5, 7, 9],\n",
              "  61: 30},\n",
              " '_dh': ['/content'],\n",
              " 'In': ['',\n",
              "  '##funtion 이라는 것이 왜 필요했을까 \\n\\ndef hello(): \\n x=10  ##이 코드가 반복되니 이 코드의 이름을 hello라고 하고, 이코드 자리에 hello를 넣자 \\n y=20\\n print(x+y)\\n\\nhello()\\n\\na =10\\n\\nhello()\\n\\nb=20\\n\\nhello()\\n\\nc =30\\nhello()\\na+b\\n\\nhello()\\n\\na-b',\n",
              "  'def xysum(x,y):\\n    return x+y\\nresult =xysum(10,20) +xysum(30,40) +xysum(50,60)\\nresult',\n",
              "  'def xysum(x,y):\\n   print(x+y)\\nresult =xysum(10,20) +xysum(30,40) +xysum(50,60)\\nresult',\n",
              "  'def xysum(x,y):\\n    \\n   print(x+y)\\nresult =xysum(10,20) +xysum(30,40) +xysum(50,60)\\nresult',\n",
              "  'def a(x,y):\\n    z =x+y\\n\\n    print(a(10,20))',\n",
              "  'def a(x,y):\\n    z =x+y\\n\\n    print(a(10,20))',\n",
              "  'def a(x,y):\\n    z =x+y\\n\\n    print(a(10,20))',\n",
              "  'def a(x,y):\\n    z =x+y\\n    return None\\n    print(a(10,20))',\n",
              "  'def a(x,y):\\n    z =x+y\\n    return None\\n    print(a(10,20))',\n",
              "  'def a(x,y):\\n    z =x+y\\n    return None\\n    print(a(10,20))',\n",
              "  'def a(x,y):\\n    z =x+y\\n    return None\\n    print(a(10,20))',\n",
              "  'def a(x,y):\\n    z =x+y\\n    return None\\n    print(a(10,20))',\n",
              "  'def a(x,y):\\n    z =x+y\\n    return None\\n    print(a(10,20))',\n",
              "  'def a(x,y):\\n    z =x+y\\n    return None\\n    print(a(10,20))',\n",
              "  'def a(x,y):\\n    z =x+y\\n\\n    print(a(10,20))',\n",
              "  'def a(x,y):\\n    z =x+y\\n\\n    print(a(10,20))',\n",
              "  \"print(print(print('hello')))\\nhello \\nNone\\nNone\",\n",
              "  \"print(print(print('hello')))\",\n",
              "  \"print(print(print('hello')))\",\n",
              "  '##문제1: 주식 그래프를 그리려고 한다. 주시그래프는 2X +15와 같은 형식으로 그려지고 x는10이라고 주어졌을때 y값이 얼마인지 구하는 함수를 만드세요\\n\\ndef solution(x):\\n  y= 2*x +15\\n\\nsolution(10)',\n",
              "  '##문제1: 주식 그래프를 그리려고 한다. 주시그래프는 2X +15와 같은 형식으로 그려지고 x는10이라고 주어졌을때 y값이 얼마인지 구하는 함수를 만드세요\\n\\ndef solution(x):\\n  y= 2*x +15\\n\\nsolution(10)',\n",
              "  '##문제1: 주식 그래프를 그리려고 한다. 주시그래프는 2X +15와 같은 형식으로 그려지고 x는10이라고 주어졌을때 y값이 얼마인지 구하는 함수를 만드세요\\n\\ndef solution(x):\\n  y= 2*x +15\\n\\nsolution(10)',\n",
              "  '##문제1: 주식 그래프를 그리려고 한다. 주시그래프는 2X +15와 같은 형식으로 그려지고 x는10이라고 주어졌을때 y값이 얼마인지 구하는 함수를 만드세요\\n\\ndef solution(x):\\n  y= 2*x +15\\n\\nsolution(10)',\n",
              "  '##문제1: 주식 그래프를 그리려고 한다. 주시그래프는 2X +15와 같은 형식으로 그려지고 x는10이라고 주어졌을때 y값이 얼마인지 구하는 함수를 만드세요\\n\\ndef solution(x):\\n  y= 2*x +15 \\n \\nsolution(10)',\n",
              "  '##문제1: 주식 그래프를 그리려고 한다. 주시그래프는 2X +15와 같은 형식으로 그려지고 x는10이라고 주어졌을때 y값이 얼마인지 구하는 함수를 만드세요\\n\\ndef solution(x):\\n  y= 2*x +15 \\n \\nsolution(10)',\n",
              "  '##문제1: 주식 그래프를 그리려고 한다. 주시그래프는 2X +15와 같은 형식으로 그려지고 x는10이라고 주어졌을때 y값이 얼마인지 구하는 함수를 만드세요\\n\\ndef solution(x):\\n  y= 2*x +15 \\n \\nsolution(10)',\n",
              "  '##문제1: 주식 그래프를 그리려고 한다. 주시그래프는 2X +15와 같은 형식으로 그려지고 x는10이라고 주어졌을때 y값이 얼마인지 구하는 함수를 만드세요\\n\\ndef solution(x):\\n  y= 2*x +15 \\n \\nsolution(10)',\n",
              "  '##문제1: 주식 그래프를 그리려고 한다. 주시그래프는 2X +15와 같은 형식으로 그려지고 x는10이라고 주어졌을때 y값이 얼마인지 구하는 함수를 만드세요\\n\\ndef solution(x):\\n  y= 2*x +15 \\n \\nprint(solution(10))',\n",
              "  '##문제1: 주식 그래프를 그리려고 한다. 주시그래프는 2X +15와 같은 형식으로 그려지고 x는10이라고 주어졌을때 y값이 얼마인지 구하는 함수를 만드세요\\n\\ndef solution(x):\\n  y= 2*x +15 \\n \\nprint(solution(10))',\n",
              "  '##문제1: 주식 그래프를 그리려고 한다. 주시그래프는 2X +15와 같은 형식으로 그려지고 x는10이라고 주어졌을때 y값이 얼마인지 구하는 함수를 만드세요\\n\\ndef solution(x):\\n  y= 2*x +15 \\n  print(y)\\nsolution(10)',\n",
              "  '##문제1: 주식 그래프를 그리려고 한다. 주시그래프는 2X +15와 같은 형식으로 그려지고 x는10이라고 주어졌을때 y값이 얼마인지 구하는 함수를 만드세요\\n\\ndef solution(x):\\n  y= 2*x +15 \\n  print(y)\\nsolution(10)',\n",
              "  '##문제1: 주식 그래프를 그리려고 한다. 주시그래프는 2X +15와 같은 형식으로 그려지고 x는10이라고 주어졌을때 y값이 얼마인지 구하는 함수를 만드세요\\n\\ndef solution(x):\\n  y= 2*x +15 \\n  print(y)\\nsolution(10)',\n",
              "  '##문제1: 주식 그래프를 그리려고 한다. 주시그래프는 2X +15와 같은 형식으로 그려지고 x는10이라고 주어졌을때 y값이 얼마인지 구하는 함수를 만드세요\\n\\ndef solution(x):\\n  y= 2*x +15 \\n  print(y)\\nsolution(10)',\n",
              "  '# 문제2: [10, 20, 30] + [1, 2, 3]이라고 했을 때 이 두 행렬을 요소별로 더하는 함수를 만드세요.\\n\\ndef solution(a, b):\\n  result=[]\\n  for i in range(len(a))\\n  result.append(a+b)\\nprint(result)\\nsolution([10, 20, 30], [1, 2, 3])',\n",
              "  '# 문제2: [10, 20, 30] + [1, 2, 3]이라고 했을 때 이 두 행렬을 요소별로 더하는 함수를 만드세요.\\n\\ndef solution(a, b):\\n  result=[]\\n  for i in range(len(a))\\n  result.append(a(i)+b(i))\\nprint(result)\\nsolution([10, 20, 30], [1, 2, 3])',\n",
              "  '# 문제2: [10, 20, 30] + [1, 2, 3]이라고 했을 때 이 두 행렬을 요소별로 더하는 함수를 만드세요.\\n\\ndef solution(a, b):\\n  result=[]\\n  for i in range(len(a))\\n  result.append (a[i],b[i])\\n\\nprint(result)\\nsolution([10, 20, 30], [1, 2, 3])',\n",
              "  '# 문제2: [10, 20, 30] + [1, 2, 3]이라고 했을 때 이 두 행렬을 요소별로 더하는 함수를 만드세요.\\n\\ndef solution(a, b):\\n  result=[]\\nfor i in range(len(a)):\\n  result.append (a[i],b[i])\\n\\nprint(result)\\nsolution([10, 20, 30], [1, 2, 3])',\n",
              "  '# 문제2: [10, 20, 30] + [1, 2, 3]이라고 했을 때 이 두 행렬을 요소별로 더하는 함수를 만드세요.\\n\\ndef solution(a, b):\\n  result=[]\\n  for i in range(len(a)):\\n   result.append (a[i],b[i])\\n\\nprint(result)\\nsolution([10, 20, 30], [1, 2, 3])',\n",
              "  '# 문제2: [10, 20, 30] + [1, 2, 3]이라고 했을 때 이 두 행렬을 요소별로 더하는 함수를 만드세요.\\n\\ndef solution(a, b):\\n  result=[]\\n  for i in range(len(a)):\\n   result.append (a[i]+b[i])\\n\\nprint(result)\\nsolution([10, 20, 30], [1, 2, 3])',\n",
              "  '# 문제2: [10, 20, 30] + [1, 2, 3]이라고 했을 때 이 두 행렬을 요소별로 더하는 함수를 만드세요.\\n\\ndef solution(a, b):\\n  result=[]\\n  for i in range(len(a)):\\n   result.append (a[i]+b[i])\\n\\nprint(result)\\nsolution([10, 20, 30], [1, 2, 3])',\n",
              "  '# 문제2: [10, 20, 30] + [1, 2, 3]이라고 했을 때 이 두 행렬을 요소별로 더하는 함수를 만드세요.\\n\\ndef solution(a, b):\\n  result=[]\\n  for i in range(len(a)):\\n   result.append (a[i]+b[i])\\n\\nprint(result)\\nsolution([10, 20, 30], [1, 2, 3])',\n",
              "  '# 문제2: [10, 20, 30] + [1, 2, 3]이라고 했을 때 이 두 행렬을 요소별로 더하는 함수를 만드세요.\\n\\ndef solution(a, b):\\n  result=[]\\n  for i in range(len(a)):\\n   result.append (a[i]+b[i])\\n\\nprint(result)\\nsolution([10, 20, 30], [1, 2, 3])',\n",
              "  '# 문제3: 행렬(리스트의 리스트)의 모든 요소에 특정 숫자를 곱하는 함수를 만드세요.\\n# 예: [1, 2, 3, 4] * 2 = [2, 4, 6, 8]\\n\\ndef solution(matrix, multiplier):\\n    result =[]\\n    for i in range(len(a)):\\n        i * 2 \\n    print (result)\\nsolution([1, 2, 3, 4], 2)',\n",
              "  '# 문제3: 행렬(리스트의 리스트)의 모든 요소에 특정 숫자를 곱하는 함수를 만드세요.\\n# 예: [1, 2, 3, 4] * 2 = [2, 4, 6, 8]\\n\\ndef solution(matrix, multiplier):\\n    result =[]\\n    for i in range(len(matrix)):\\n        i * 2 \\n    print (result)\\nsolution([1, 2, 3, 4], 2)',\n",
              "  '# 문제3: 행렬(리스트의 리스트)의 모든 요소에 특정 숫자를 곱하는 함수를 만드세요.\\n# 예: [1, 2, 3, 4] * 2 = [2, 4, 6, 8]\\n\\ndef solution(matrix, multiplier):\\n    result =[]\\n    for i in range(len(matrix)):\\n        result.append(matrix*multiplier) \\n    print (result)\\nsolution([1, 2, 3, 4], 2)',\n",
              "  '# 문제3: 행렬(리스트의 리스트)의 모든 요소에 특정 숫자를 곱하는 함수를 만드세요.\\n# 예: [1, 2, 3, 4] * 2 = [2, 4, 6, 8]\\n\\ndef solution(matrix, multiplier):\\n    result =[]\\n    for i in range(len(matrix)):\\n        result.append(ix*multiplier) \\n    print (result)\\nsolution([1, 2, 3, 4], 2)',\n",
              "  '# 문제3: 행렬(리스트의 리스트)의 모든 요소에 특정 숫자를 곱하는 함수를 만드세요.\\n# 예: [1, 2, 3, 4] * 2 = [2, 4, 6, 8]\\n\\ndef solution(matrix, multiplier):\\n    result =[]\\n    for i in range(len(matrix)):\\n        result.append(ix*multiplier) \\n    print (result)\\nsolution([1, 2, 3, 4], 2)',\n",
              "  '# 문제3: 행렬(리스트의 리스트)의 모든 요소에 특정 숫자를 곱하는 함수를 만드세요.\\n# 예: [1, 2, 3, 4] * 2 = [2, 4, 6, 8]\\n\\ndef solution(matrix, multiplier):\\n    result =[]\\n    for i in range(len(matrix)):\\n        result.append(i*multiplier) \\n    print (result)\\nsolution([1, 2, 3, 4], 2)',\n",
              "  '# 문제3: 행렬(리스트의 리스트)의 모든 요소에 특정 숫자를 곱하는 함수를 만드세요.\\n# 예: [1, 2, 3, 4] * 2 = [2, 4, 6, 8]\\n\\ndef solution(matrix, multiplier):\\n    result =[]\\n    for i in range(len(matrix)):\\n        result.append(i*matrix) \\n    print (result)\\nsolution([1, 2, 3, 4], 2)',\n",
              "  '# 문제3: 행렬(리스트의 리스트)의 모든 요소에 특정 숫자를 곱하는 함수를 만드세요.\\n# 예: [1, 2, 3, 4] * 2 = [2, 4, 6, 8]\\n\\ndef solution(matrix, multiplier):\\n    result =[]  ##결과 받을 리스트 만들기 \\n    for i in matrix:  ##요소 기반해서 사용\\n     result.append(i*multiplier)  ##리스트에 결과를 추가한다.\\n    print (result)\\nsolution([1, 2, 3, 4], 2)',\n",
              "  '# 문제2: [10, 20, 30] + [1, 2, 3]이라고 했을 때 이 두 행렬을 요소별로 더하는 함수를 만드세요.\\n\\ndef solution(a, b):\\n  result=[] ##결과값을 받을 리스트 \\n  for i in range(len(a)): ## 인덱스 자체를 사용\\n   result.append (a[i]+b[i]) ##리스트에 결과를 추가한다.\\n\\nprint(result)\\nsolution([10, 20, 30], [1, 2, 3])',\n",
              "  '# 문제2: [10, 20, 30] + [1, 2, 3]이라고 했을 때 이 두 행렬을 요소별로 더하는 함수를 만드세요.\\n\\ndef solution(a, b):\\n  result=[] ##결과값을 받을 리스트 \\n  for i in range(len(a)): ## 인덱스 자체를 사용\\n   result.append (a[i]+b[i]) ##리스트에 결과를 추가한다.\\n\\nprint(result)\\nsolution([10, 20, 30], [1, 2, 3])',\n",
              "  '# 문제2: [10, 20, 30] + [1, 2, 3]이라고 했을 때 이 두 행렬을 요소별로 더하는 함수를 만드세요.\\n\\ndef solution(a, b):\\n  result=[] ##결과값을 받을 리스트 \\n  for i in range(len(a)): ## 인덱스 자체를 사용\\n   result.append (a[i]+b[i]) ##리스트에 결과를 추가한다.\\n\\nprint(result)\\nsolution([10, 20, 30], [1, 2, 3])',\n",
              "  '# 문제2: [10, 20, 30] + [1, 2, 3]이라고 했을 때 이 두 행렬을 요소별로 더하는 함수를 만드세요.\\n\\ndef solution(a, b):\\n  result=[] ##결과값을 받을 리스트 \\n  for i in range(len(a)): ## 인덱스 자체를 사용 ##a의 값만큼 반복\\n   result.append (a[i]+b[i]) ##리스트에 결과를 추가한다.\\n\\nprint(result)\\nsolution([10, 20, 30,40], [1, 2, 3])',\n",
              "  '# 문제2: [10, 20, 30] + [1, 2, 3]이라고 했을 때 이 두 행렬을 요소별로 더하는 함수를 만드세요.\\n\\ndef solution(a, b):\\n  result=[] ##결과값을 받을 리스트 \\n  for i in range(len(a)): ## 인덱스 자체를 사용 ##a의 값만큼 반복\\n   result.append (a[i]+b[i]) ##리스트에 결과를 추가한다.\\n\\nprint(result)\\nsolution([10, 20, 30], [1, 2, 3,4])',\n",
              "  '# 문제2: [10, 20, 30] + [1, 2, 3]이라고 했을 때 이 두 행렬을 요소별로 더하는 함수를 만드세요.\\n\\ndef solution(a, b):\\n  result=[] ##결과값을 받을 리스트 \\n  for i in range(len(a)): ## 인덱스 자체를 사용 ##a의 값만큼 반복\\n   result.append (a[i]+b[i]) ##리스트에 결과를 추가한다.\\n\\nprint(result)\\nsolution([10, 20, 30], [1, 2, 3,4])',\n",
              "  '# 문제2: [10, 20, 30] + [1, 2, 3]이라고 했을 때 이 두 행렬을 요소별로 더하는 함수를 만드세요.\\n\\ndef solution(a, b):\\n  result=[] ##결과값을 받을 리스트\\n  for i,v in enumerate(a): ##  v에 [10,20,30] ,인덱스 0을 i에 넣어준다\\n   a[i]=v+b[i] ##리스트에 결과를 추가한다.\\n   return a\\nsolution([10, 20, 30], [1, 2, 3,4])',\n",
              "  '# 문제2: [10, 20, 30] + [1, 2, 3]이라고 했을 때 이 두 행렬을 요소별로 더하는 함수를 만드세요.\\n\\ndef solution(a, b):\\n  result=[] ##결과값을 받을 리스트\\n  for i,v in enumerate(a): ##  v에 [10,20,30] ,인덱스 0을 i에 넣어준다\\n   a[i]=v+b[i] ##리스트에 결과를 추가한다.\\n   return a\\nsolution([10, 20, 30], [1, 2, 3,4])',\n",
              "  '# 문제2: [10, 20, 30] + [1, 2, 3]이라고 했을 때 이 두 행렬을 요소별로 더하는 함수를 만드세요.\\n\\ndef solution(a, b):\\n  result=[] ##결과값을 받을 리스트\\n  for i,v in enumerate(a): ##  v에 [10,20,30] ,인덱스 0을 i에 넣어준다\\n   a[i]=v+b[i] ##리스트에 결과를 추가한다.\\n   return a\\nsolution([10, 20, 30], [1, 2, 3,4])',\n",
              "  's= []\\nfor i in range(1,10,2):\\n    s.append(i)\\ns',\n",
              "  '# 파라미터에 기본값이 정해져 있는 경우!\\n\\ndef add(x = 10, y = 20):\\n    return x + y\\n\\nadd()',\n",
              "  'x=10\\nx+=10\\nprint(x)',\n",
              "  'locals()'],\n",
              " 'Out': {1: -10,\n",
              "  2: 210,\n",
              "  57: [11, 20, 30],\n",
              "  58: [11, 20, 30],\n",
              "  59: [11, 20, 30],\n",
              "  60: [1, 3, 5, 7, 9],\n",
              "  61: 30},\n",
              " 'get_ipython': <bound method InteractiveShell.get_ipython of <google.colab._shell.Shell object at 0x79f130574c10>>,\n",
              " 'exit': <IPython.core.autocall.ZMQExitAutocall at 0x79f130578590>,\n",
              " 'quit': <IPython.core.autocall.ZMQExitAutocall at 0x79f130578590>,\n",
              " '_': 30,\n",
              " '__': [1, 3, 5, 7, 9],\n",
              " '___': [11, 20, 30],\n",
              " '_i': 'x=10\\nx+=10\\nprint(x)',\n",
              " '_ii': '# 파라미터에 기본값이 정해져 있는 경우!\\n\\ndef add(x = 10, y = 20):\\n    return x + y\\n\\nadd()',\n",
              " '_iii': 's= []\\nfor i in range(1,10,2):\\n    s.append(i)\\ns',\n",
              " '_i1': '##funtion 이라는 것이 왜 필요했을까 \\n\\ndef hello(): \\n x=10  ##이 코드가 반복되니 이 코드의 이름을 hello라고 하고, 이코드 자리에 hello를 넣자 \\n y=20\\n print(x+y)\\n\\nhello()\\n\\na =10\\n\\nhello()\\n\\nb=20\\n\\nhello()\\n\\nc =30\\nhello()\\na+b\\n\\nhello()\\n\\na-b',\n",
              " 'hello': <function __main__.hello()>,\n",
              " 'a': <function __main__.a(x, y)>,\n",
              " 'b': 20,\n",
              " 'c': 30,\n",
              " '_1': -10,\n",
              " '_i2': '\\ndef xysum(x,y):\\n    return x+y\\nresult =xysum(10,20) +xysum(30,40) +xysum(50,60)\\nresult',\n",
              " 'xysum': <function __main__.xysum(x, y)>,\n",
              " 'result': 210,\n",
              " '_2': 210,\n",
              " '_i3': '\\ndef xysum(x,y):\\n   print(x+y)\\nresult =xysum(10,20) +xysum(30,40) +xysum(50,60)\\nresult',\n",
              " '_i4': '\\ndef xysum(x,y):\\n    \\n   print(x+y)\\nresult =xysum(10,20) +xysum(30,40) +xysum(50,60)\\nresult',\n",
              " '_i5': 'def a(x,y):\\n    z =x+y\\n\\n    print(a(10,20))',\n",
              " '_i6': 'def a(x,y):\\n    z =x+y\\n\\n    print(a(10,20))',\n",
              " '_i7': 'def a(x,y):\\n    z =x+y\\n\\n    print(a(10,20))',\n",
              " '_i8': 'def a(x,y):\\n    z =x+y\\n    return None\\n    print(a(10,20))',\n",
              " '_i9': 'def a(x,y):\\n    z =x+y\\n    return None\\n    print(a(10,20))',\n",
              " '_i10': 'def a(x,y):\\n    z =x+y\\n    return None\\n    print(a(10,20))',\n",
              " '_i11': 'def a(x,y):\\n    z =x+y\\n    return None\\n    print(a(10,20))',\n",
              " '_i12': 'def a(x,y):\\n    z =x+y\\n    return None\\n    print(a(10,20))',\n",
              " '_i13': 'def a(x,y):\\n    z =x+y\\n    return None\\n    print(a(10,20))',\n",
              " '_i14': 'def a(x,y):\\n    z =x+y\\n    return None\\n    print(a(10,20))',\n",
              " '_i15': 'def a(x,y):\\n    z =x+y\\n\\n    print(a(10,20))',\n",
              " '_i16': 'def a(x,y):\\n    z =x+y\\n\\n    print(a(10,20))',\n",
              " '_i17': \"print(print(print('hello')))\\nhello \\nNone\\nNone\",\n",
              " '_i18': \"print(print(print('hello')))\",\n",
              " '_i19': \"print(print(print('hello')))\",\n",
              " '_i20': '\\n##문제1: 주식 그래프를 그리려고 한다. 주시그래프는 2X +15와 같은 형식으로 그려지고 x는10이라고 주어졌을때 y값이 얼마인지 구하는 함수를 만드세요\\n\\ndef solution(x):\\n  y= 2*x +15\\n\\nsolution(10)',\n",
              " 'solution': <function __main__.solution(a, b)>,\n",
              " '_i21': '\\n##문제1: 주식 그래프를 그리려고 한다. 주시그래프는 2X +15와 같은 형식으로 그려지고 x는10이라고 주어졌을때 y값이 얼마인지 구하는 함수를 만드세요\\n\\ndef solution(x):\\n  y= 2*x +15\\n\\nsolution(10)',\n",
              " '_i22': '\\n##문제1: 주식 그래프를 그리려고 한다. 주시그래프는 2X +15와 같은 형식으로 그려지고 x는10이라고 주어졌을때 y값이 얼마인지 구하는 함수를 만드세요\\n\\ndef solution(x):\\n  y= 2*x +15\\n\\nsolution(10)',\n",
              " '_i23': '\\n##문제1: 주식 그래프를 그리려고 한다. 주시그래프는 2X +15와 같은 형식으로 그려지고 x는10이라고 주어졌을때 y값이 얼마인지 구하는 함수를 만드세요\\n\\ndef solution(x):\\n  y= 2*x +15\\n\\nsolution(10)',\n",
              " '_i24': '\\n##문제1: 주식 그래프를 그리려고 한다. 주시그래프는 2X +15와 같은 형식으로 그려지고 x는10이라고 주어졌을때 y값이 얼마인지 구하는 함수를 만드세요\\n\\ndef solution(x):\\n  y= 2*x +15 \\n \\nsolution(10)',\n",
              " '_i25': '\\n##문제1: 주식 그래프를 그리려고 한다. 주시그래프는 2X +15와 같은 형식으로 그려지고 x는10이라고 주어졌을때 y값이 얼마인지 구하는 함수를 만드세요\\n\\ndef solution(x):\\n  y= 2*x +15 \\n \\nsolution(10)',\n",
              " '_i26': '\\n##문제1: 주식 그래프를 그리려고 한다. 주시그래프는 2X +15와 같은 형식으로 그려지고 x는10이라고 주어졌을때 y값이 얼마인지 구하는 함수를 만드세요\\n\\ndef solution(x):\\n  y= 2*x +15 \\n \\nsolution(10)',\n",
              " '_i27': '\\n##문제1: 주식 그래프를 그리려고 한다. 주시그래프는 2X +15와 같은 형식으로 그려지고 x는10이라고 주어졌을때 y값이 얼마인지 구하는 함수를 만드세요\\n\\ndef solution(x):\\n  y= 2*x +15 \\n \\nsolution(10)',\n",
              " '_i28': '\\n##문제1: 주식 그래프를 그리려고 한다. 주시그래프는 2X +15와 같은 형식으로 그려지고 x는10이라고 주어졌을때 y값이 얼마인지 구하는 함수를 만드세요\\n\\ndef solution(x):\\n  y= 2*x +15 \\n \\nprint(solution(10))',\n",
              " '_i29': '\\n##문제1: 주식 그래프를 그리려고 한다. 주시그래프는 2X +15와 같은 형식으로 그려지고 x는10이라고 주어졌을때 y값이 얼마인지 구하는 함수를 만드세요\\n\\ndef solution(x):\\n  y= 2*x +15 \\n \\nprint(solution(10))',\n",
              " '_i30': '\\n##문제1: 주식 그래프를 그리려고 한다. 주시그래프는 2X +15와 같은 형식으로 그려지고 x는10이라고 주어졌을때 y값이 얼마인지 구하는 함수를 만드세요\\n\\ndef solution(x):\\n  y= 2*x +15 \\n  print(y)\\nsolution(10)',\n",
              " '_i31': '\\n##문제1: 주식 그래프를 그리려고 한다. 주시그래프는 2X +15와 같은 형식으로 그려지고 x는10이라고 주어졌을때 y값이 얼마인지 구하는 함수를 만드세요\\n\\ndef solution(x):\\n  y= 2*x +15 \\n  print(y)\\nsolution(10)',\n",
              " '_i32': '\\n##문제1: 주식 그래프를 그리려고 한다. 주시그래프는 2X +15와 같은 형식으로 그려지고 x는10이라고 주어졌을때 y값이 얼마인지 구하는 함수를 만드세요\\n\\ndef solution(x):\\n  y= 2*x +15 \\n  print(y)\\nsolution(10)',\n",
              " '_i33': '\\n##문제1: 주식 그래프를 그리려고 한다. 주시그래프는 2X +15와 같은 형식으로 그려지고 x는10이라고 주어졌을때 y값이 얼마인지 구하는 함수를 만드세요\\n\\ndef solution(x):\\n  y= 2*x +15 \\n  print(y)\\nsolution(10)',\n",
              " '_i34': '# 문제2: [10, 20, 30] + [1, 2, 3]이라고 했을 때 이 두 행렬을 요소별로 더하는 함수를 만드세요.\\n\\ndef solution(a, b):\\n  result=[]\\n  for i in range(len(a))\\n  result.append(a+b)\\nprint(result)\\nsolution([10, 20, 30], [1, 2, 3])',\n",
              " '_i35': '# 문제2: [10, 20, 30] + [1, 2, 3]이라고 했을 때 이 두 행렬을 요소별로 더하는 함수를 만드세요.\\n\\ndef solution(a, b):\\n  result=[]\\n  for i in range(len(a))\\n  result.append(a(i)+b(i))\\nprint(result)\\nsolution([10, 20, 30], [1, 2, 3])',\n",
              " '_i36': '# 문제2: [10, 20, 30] + [1, 2, 3]이라고 했을 때 이 두 행렬을 요소별로 더하는 함수를 만드세요.\\n\\ndef solution(a, b):\\n  result=[]\\n  for i in range(len(a))\\n  result.append (a[i],b[i])\\n\\nprint(result)\\nsolution([10, 20, 30], [1, 2, 3])',\n",
              " '_i37': '# 문제2: [10, 20, 30] + [1, 2, 3]이라고 했을 때 이 두 행렬을 요소별로 더하는 함수를 만드세요.\\n\\ndef solution(a, b):\\n  result=[]\\nfor i in range(len(a)):\\n  result.append (a[i],b[i])\\n\\nprint(result)\\nsolution([10, 20, 30], [1, 2, 3])',\n",
              " '_i38': '# 문제2: [10, 20, 30] + [1, 2, 3]이라고 했을 때 이 두 행렬을 요소별로 더하는 함수를 만드세요.\\n\\ndef solution(a, b):\\n  result=[]\\n  for i in range(len(a)):\\n   result.append (a[i],b[i])\\n\\nprint(result)\\nsolution([10, 20, 30], [1, 2, 3])',\n",
              " '_i39': '# 문제2: [10, 20, 30] + [1, 2, 3]이라고 했을 때 이 두 행렬을 요소별로 더하는 함수를 만드세요.\\n\\ndef solution(a, b):\\n  result=[]\\n  for i in range(len(a)):\\n   result.append (a[i]+b[i])\\n\\nprint(result)\\nsolution([10, 20, 30], [1, 2, 3])',\n",
              " '_i40': '# 문제2: [10, 20, 30] + [1, 2, 3]이라고 했을 때 이 두 행렬을 요소별로 더하는 함수를 만드세요.\\n\\ndef solution(a, b):\\n  result=[]\\n  for i in range(len(a)):\\n   result.append (a[i]+b[i])\\n\\nprint(result)\\nsolution([10, 20, 30], [1, 2, 3])',\n",
              " '_i41': '# 문제2: [10, 20, 30] + [1, 2, 3]이라고 했을 때 이 두 행렬을 요소별로 더하는 함수를 만드세요.\\n\\ndef solution(a, b):\\n  result=[]\\n  for i in range(len(a)):\\n   result.append (a[i]+b[i])\\n\\nprint(result)\\nsolution([10, 20, 30], [1, 2, 3])',\n",
              " '_i42': '# 문제2: [10, 20, 30] + [1, 2, 3]이라고 했을 때 이 두 행렬을 요소별로 더하는 함수를 만드세요.\\n\\ndef solution(a, b):\\n  result=[]\\n  for i in range(len(a)):\\n   result.append (a[i]+b[i])\\n\\nprint(result)\\nsolution([10, 20, 30], [1, 2, 3])',\n",
              " '_i43': '# 문제3: 행렬(리스트의 리스트)의 모든 요소에 특정 숫자를 곱하는 함수를 만드세요.\\n# 예: [1, 2, 3, 4] * 2 = [2, 4, 6, 8]\\n\\ndef solution(matrix, multiplier):\\n    result =[]\\n    for i in range(len(a)):\\n        i * 2 \\n    print (result)\\nsolution([1, 2, 3, 4], 2)',\n",
              " '_i44': '# 문제3: 행렬(리스트의 리스트)의 모든 요소에 특정 숫자를 곱하는 함수를 만드세요.\\n# 예: [1, 2, 3, 4] * 2 = [2, 4, 6, 8]\\n\\ndef solution(matrix, multiplier):\\n    result =[]\\n    for i in range(len(matrix)):\\n        i * 2 \\n    print (result)\\nsolution([1, 2, 3, 4], 2)',\n",
              " '_i45': '# 문제3: 행렬(리스트의 리스트)의 모든 요소에 특정 숫자를 곱하는 함수를 만드세요.\\n# 예: [1, 2, 3, 4] * 2 = [2, 4, 6, 8]\\n\\ndef solution(matrix, multiplier):\\n    result =[]\\n    for i in range(len(matrix)):\\n        result.append(matrix*multiplier) \\n    print (result)\\nsolution([1, 2, 3, 4], 2)',\n",
              " '_i46': '# 문제3: 행렬(리스트의 리스트)의 모든 요소에 특정 숫자를 곱하는 함수를 만드세요.\\n# 예: [1, 2, 3, 4] * 2 = [2, 4, 6, 8]\\n\\ndef solution(matrix, multiplier):\\n    result =[]\\n    for i in range(len(matrix)):\\n        result.append(ix*multiplier) \\n    print (result)\\nsolution([1, 2, 3, 4], 2)',\n",
              " '_i47': '# 문제3: 행렬(리스트의 리스트)의 모든 요소에 특정 숫자를 곱하는 함수를 만드세요.\\n# 예: [1, 2, 3, 4] * 2 = [2, 4, 6, 8]\\n\\ndef solution(matrix, multiplier):\\n    result =[]\\n    for i in range(len(matrix)):\\n        result.append(ix*multiplier) \\n    print (result)\\nsolution([1, 2, 3, 4], 2)',\n",
              " '_i48': '# 문제3: 행렬(리스트의 리스트)의 모든 요소에 특정 숫자를 곱하는 함수를 만드세요.\\n# 예: [1, 2, 3, 4] * 2 = [2, 4, 6, 8]\\n\\ndef solution(matrix, multiplier):\\n    result =[]\\n    for i in range(len(matrix)):\\n        result.append(i*multiplier) \\n    print (result)\\nsolution([1, 2, 3, 4], 2)',\n",
              " '_i49': '# 문제3: 행렬(리스트의 리스트)의 모든 요소에 특정 숫자를 곱하는 함수를 만드세요.\\n# 예: [1, 2, 3, 4] * 2 = [2, 4, 6, 8]\\n\\ndef solution(matrix, multiplier):\\n    result =[]\\n    for i in range(len(matrix)):\\n        result.append(i*matrix) \\n    print (result)\\nsolution([1, 2, 3, 4], 2)',\n",
              " '_i50': '# 문제3: 행렬(리스트의 리스트)의 모든 요소에 특정 숫자를 곱하는 함수를 만드세요.\\n# 예: [1, 2, 3, 4] * 2 = [2, 4, 6, 8]\\n\\ndef solution(matrix, multiplier):\\n    result =[]  ##결과 받을 리스트 만들기 \\n    for i in matrix:  ##요소 기반해서 사용\\n     result.append(i*multiplier)  ##리스트에 결과를 추가한다.\\n    print (result)\\nsolution([1, 2, 3, 4], 2)',\n",
              " '_i51': '# 문제2: [10, 20, 30] + [1, 2, 3]이라고 했을 때 이 두 행렬을 요소별로 더하는 함수를 만드세요.\\n\\ndef solution(a, b):\\n  result=[] ##결과값을 받을 리스트 \\n  for i in range(len(a)): ## 인덱스 자체를 사용\\n   result.append (a[i]+b[i]) ##리스트에 결과를 추가한다.\\n\\nprint(result)\\nsolution([10, 20, 30], [1, 2, 3])',\n",
              " '_i52': '# 문제2: [10, 20, 30] + [1, 2, 3]이라고 했을 때 이 두 행렬을 요소별로 더하는 함수를 만드세요.\\n\\ndef solution(a, b):\\n  result=[] ##결과값을 받을 리스트 \\n  for i in range(len(a)): ## 인덱스 자체를 사용\\n   result.append (a[i]+b[i]) ##리스트에 결과를 추가한다.\\n\\nprint(result)\\nsolution([10, 20, 30], [1, 2, 3])',\n",
              " '_i53': '# 문제2: [10, 20, 30] + [1, 2, 3]이라고 했을 때 이 두 행렬을 요소별로 더하는 함수를 만드세요.\\n\\ndef solution(a, b):\\n  result=[] ##결과값을 받을 리스트 \\n  for i in range(len(a)): ## 인덱스 자체를 사용\\n   result.append (a[i]+b[i]) ##리스트에 결과를 추가한다.\\n\\nprint(result)\\nsolution([10, 20, 30], [1, 2, 3])',\n",
              " '_i54': '# 문제2: [10, 20, 30] + [1, 2, 3]이라고 했을 때 이 두 행렬을 요소별로 더하는 함수를 만드세요.\\n\\ndef solution(a, b):\\n  result=[] ##결과값을 받을 리스트 \\n  for i in range(len(a)): ## 인덱스 자체를 사용 ##a의 값만큼 반복\\n   result.append (a[i]+b[i]) ##리스트에 결과를 추가한다.\\n\\nprint(result)\\nsolution([10, 20, 30,40], [1, 2, 3])',\n",
              " '_i55': '# 문제2: [10, 20, 30] + [1, 2, 3]이라고 했을 때 이 두 행렬을 요소별로 더하는 함수를 만드세요.\\n\\ndef solution(a, b):\\n  result=[] ##결과값을 받을 리스트 \\n  for i in range(len(a)): ## 인덱스 자체를 사용 ##a의 값만큼 반복\\n   result.append (a[i]+b[i]) ##리스트에 결과를 추가한다.\\n\\nprint(result)\\nsolution([10, 20, 30], [1, 2, 3,4])',\n",
              " '_i56': '# 문제2: [10, 20, 30] + [1, 2, 3]이라고 했을 때 이 두 행렬을 요소별로 더하는 함수를 만드세요.\\n\\ndef solution(a, b):\\n  result=[] ##결과값을 받을 리스트 \\n  for i in range(len(a)): ## 인덱스 자체를 사용 ##a의 값만큼 반복\\n   result.append (a[i]+b[i]) ##리스트에 결과를 추가한다.\\n\\nprint(result)\\nsolution([10, 20, 30], [1, 2, 3,4])',\n",
              " '_i57': '# 문제2: [10, 20, 30] + [1, 2, 3]이라고 했을 때 이 두 행렬을 요소별로 더하는 함수를 만드세요.\\n\\ndef solution(a, b):\\n  result=[] ##결과값을 받을 리스트\\n  for i,v in enumerate(a): ##  v에 [10,20,30] ,인덱스 0을 i에 넣어준다\\n   a[i]=v+b[i] ##리스트에 결과를 추가한다.\\n   return a\\nsolution([10, 20, 30], [1, 2, 3,4])',\n",
              " '_57': [11, 20, 30],\n",
              " '_i58': '# 문제2: [10, 20, 30] + [1, 2, 3]이라고 했을 때 이 두 행렬을 요소별로 더하는 함수를 만드세요.\\n\\ndef solution(a, b):\\n  result=[] ##결과값을 받을 리스트\\n  for i,v in enumerate(a): ##  v에 [10,20,30] ,인덱스 0을 i에 넣어준다\\n   a[i]=v+b[i] ##리스트에 결과를 추가한다.\\n   return a\\nsolution([10, 20, 30], [1, 2, 3,4])',\n",
              " '_58': [11, 20, 30],\n",
              " '_i59': '# 문제2: [10, 20, 30] + [1, 2, 3]이라고 했을 때 이 두 행렬을 요소별로 더하는 함수를 만드세요.\\n\\ndef solution(a, b):\\n  result=[] ##결과값을 받을 리스트\\n  for i,v in enumerate(a): ##  v에 [10,20,30] ,인덱스 0을 i에 넣어준다\\n   a[i]=v+b[i] ##리스트에 결과를 추가한다.\\n   return a\\nsolution([10, 20, 30], [1, 2, 3,4])',\n",
              " '_59': [11, 20, 30],\n",
              " '_i60': 's= []\\nfor i in range(1,10,2):\\n    s.append(i)\\ns',\n",
              " 's': [1, 3, 5, 7, 9],\n",
              " 'i': 9,\n",
              " '_60': [1, 3, 5, 7, 9],\n",
              " '_i61': '# 파라미터에 기본값이 정해져 있는 경우!\\n\\ndef add(x = 10, y = 20):\\n    return x + y\\n\\nadd()',\n",
              " 'add': <function __main__.add(x=10, y=20)>,\n",
              " '_61': 30,\n",
              " '_i62': 'x=10\\nx+=10\\nprint(x)',\n",
              " 'x': 20,\n",
              " '_i63': 'locals()'}"
            ]
          },
          "metadata": {},
          "execution_count": 63
        }
      ]
    },
    {
      "cell_type": "code",
      "source": [
        "print(print(print('hello')))"
      ],
      "metadata": {
        "colab": {
          "base_uri": "https://localhost:8080/"
        },
        "id": "So4d0mlu-XAf",
        "outputId": "b4926b1b-7f40-4c06-fe1c-50f552dcacc7"
      },
      "execution_count": null,
      "outputs": [
        {
          "output_type": "stream",
          "name": "stdout",
          "text": [
            "hello\n",
            "None\n",
            "None\n"
          ]
        }
      ]
    },
    {
      "cell_type": "code",
      "source": [
        "## hello 라는 것은 무엇인가요\n",
        "## 변수이다. 함수의 이름이 변수이다."
      ],
      "metadata": {
        "id": "UHnaYXNJQvuA"
      },
      "execution_count": null,
      "outputs": []
    },
    {
      "cell_type": "code",
      "source": [
        "a =print\n",
        "a('Hello world')"
      ],
      "metadata": {
        "colab": {
          "base_uri": "https://localhost:8080/"
        },
        "id": "HcMwOGltQ_Fw",
        "outputId": "039a6017-3d8a-44cc-824b-4609ed387c54"
      },
      "execution_count": null,
      "outputs": [
        {
          "output_type": "stream",
          "name": "stdout",
          "text": [
            "Hello world\n"
          ]
        }
      ]
    },
    {
      "cell_type": "code",
      "source": [
        "i =[a,a,a,a,a]\n",
        "i[0]('Hello')"
      ],
      "metadata": {
        "colab": {
          "base_uri": "https://localhost:8080/"
        },
        "id": "J2QDEQq-RGSk",
        "outputId": "38b9c8d2-529b-445c-e82a-7f5029546232"
      },
      "execution_count": null,
      "outputs": [
        {
          "output_type": "stream",
          "name": "stdout",
          "text": [
            "Hello\n"
          ]
        }
      ]
    },
    {
      "cell_type": "markdown",
      "source": [
        "# 변수"
      ],
      "metadata": {
        "id": "N6D_hVwNRzek"
      }
    },
    {
      "cell_type": "code",
      "source": [
        "a = 10\n",
        "b = a\n",
        "c= b\n",
        "\n",
        "c\n",
        "\n",
        "\n",
        "## 파이썬의 변수는 저장하지 않고 지적만 하는것\n",
        "#화살표는 어떻게 그려지는 것일까요\n",
        "\n",
        "\n",
        "## a->10\n",
        "## b ->10\n",
        "## c ->10"
      ],
      "metadata": {
        "id": "AdSkNRfPR1GF"
      },
      "execution_count": null,
      "outputs": []
    },
    {
      "cell_type": "code",
      "source": [
        "##증명\n",
        "a = 10\n",
        "b = a\n",
        "c= b\n",
        "\n",
        "c"
      ],
      "metadata": {
        "colab": {
          "base_uri": "https://localhost:8080/"
        },
        "id": "kxVkBUhpSgPy",
        "outputId": "729b921d-3898-463c-8ee4-1f3d17f69624"
      },
      "execution_count": null,
      "outputs": [
        {
          "output_type": "execute_result",
          "data": {
            "text/plain": [
              "10"
            ]
          },
          "metadata": {},
          "execution_count": 16
        }
      ]
    },
    {
      "cell_type": "code",
      "source": [
        "b=100\n",
        "c"
      ],
      "metadata": {
        "colab": {
          "base_uri": "https://localhost:8080/"
        },
        "id": "58KoP1BxSkbf",
        "outputId": "712cb7c4-dae6-420f-83c9-9ae3ddf31d1d"
      },
      "execution_count": null,
      "outputs": [
        {
          "output_type": "execute_result",
          "data": {
            "text/plain": [
              "10"
            ]
          },
          "metadata": {},
          "execution_count": 17
        }
      ]
    },
    {
      "cell_type": "markdown",
      "source": [
        "# type, dir, id\n",
        "\n",
        "- type은 앞으로도 자주 사용됩니다. 왜냐하면 우리가 앞으로 사용할 데이터 자료형은 기본 자료형이 아닌 경우가 많기 때문이에요.\n",
        "\n",
        "-dir 은 해당 자료형에 있는 속성들을 파악하기 좋다."
      ],
      "metadata": {
        "id": "BV3jN6psUHsn"
      }
    },
    {
      "cell_type": "code",
      "source": [
        "print(type(hello))"
      ],
      "metadata": {
        "colab": {
          "base_uri": "https://localhost:8080/"
        },
        "id": "GzKF9HmMU2fA",
        "outputId": "7d45040f-59c4-4baf-ab4f-f4d167aecd6d"
      },
      "execution_count": null,
      "outputs": [
        {
          "output_type": "stream",
          "name": "stdout",
          "text": [
            "<class 'function'>\n"
          ]
        }
      ]
    },
    {
      "cell_type": "code",
      "source": [
        "a=10\n",
        "print(type(a))"
      ],
      "metadata": {
        "colab": {
          "base_uri": "https://localhost:8080/"
        },
        "id": "r-hvaGorU8or",
        "outputId": "3f1c0b65-ded5-4aa9-922a-77a0bcdc0293"
      },
      "execution_count": null,
      "outputs": [
        {
          "output_type": "stream",
          "name": "stdout",
          "text": [
            "<class 'int'>\n"
          ]
        }
      ]
    },
    {
      "cell_type": "code",
      "source": [
        "print(a)"
      ],
      "metadata": {
        "colab": {
          "base_uri": "https://localhost:8080/"
        },
        "id": "7ljDBkUKVM7N",
        "outputId": "c4540752-6146-43d4-9fdb-6ea2deee5c50"
      },
      "execution_count": null,
      "outputs": [
        {
          "output_type": "stream",
          "name": "stdout",
          "text": [
            "10\n"
          ]
        }
      ]
    },
    {
      "cell_type": "code",
      "source": [
        "##예 1)눈으로 10으로 보인다고 해서 int형으로 생각하지 마세요.\n",
        "\n",
        "import numpy as np\n",
        "\n",
        "data = np.array(1)\n",
        "print(data)\n",
        "print(type(data))"
      ],
      "metadata": {
        "colab": {
          "base_uri": "https://localhost:8080/"
        },
        "id": "tSicEvYeVPBY",
        "outputId": "de3ab819-d2d7-4303-a026-a6b570912490"
      },
      "execution_count": null,
      "outputs": [
        {
          "output_type": "stream",
          "name": "stdout",
          "text": [
            "1\n",
            "<class 'numpy.ndarray'>\n"
          ]
        }
      ]
    },
    {
      "cell_type": "code",
      "source": [
        "# 예 2) 타입을 확인해야 하는 이유는 아래와 같아요. 기본 연산이 다르기 때문이죠.\n",
        "print([1, 2, 3] + [4, 5, 6])\n",
        "print(np.array([1, 2, 3]) + np.array([4, 5, 6]))"
      ],
      "metadata": {
        "colab": {
          "base_uri": "https://localhost:8080/"
        },
        "id": "j-Fe-puhWSbs",
        "outputId": "b31ee3e0-9390-4f96-fa59-defe73d5cb9d"
      },
      "execution_count": null,
      "outputs": [
        {
          "output_type": "stream",
          "name": "stdout",
          "text": [
            "[1, 2, 3, 4, 5, 6]\n",
            "[5 7 9]\n"
          ]
        }
      ]
    },
    {
      "cell_type": "code",
      "source": [
        "i =[1,2,3,4]\n",
        "dir(i) ##메서드 +멤버\n",
        "\n",
        "##이게 왜 중요할까? 코딩하다가 메서드 까먹을까봐 중요하다고 하신걸까?"
      ],
      "metadata": {
        "id": "o_VpHPrLX2xD"
      },
      "execution_count": null,
      "outputs": []
    },
    {
      "cell_type": "code",
      "source": [
        "# 이 빌트인 펑션이 왜 중요하냐면, 앞으로 여러분들이 만날 자료형들은\n",
        "# 새롭게 만나는 자료형들입니다.\n",
        "# 예를 들어, 아래 타입을 한 번 살펴보도록 하겠습니다.\n",
        "\n",
        "import numpy as np\n",
        "\n",
        "data = np.array([[10, 20, 30], [40, 50, 60]])\n",
        "dir(data)\n",
        "# 아래 목록만 봐도 어떤 자료형인지 짐작할 수 있고\n",
        "# 원하는 메서드를 바로 발견할 수도 있습니다.\n",
        "\n",
        "print(data.T)\n",
        "##"
      ],
      "metadata": {
        "colab": {
          "base_uri": "https://localhost:8080/"
        },
        "id": "f--FD3nYYOfe",
        "outputId": "203d68fe-9ef6-40af-ded9-f0b03f7dce99"
      },
      "execution_count": null,
      "outputs": [
        {
          "output_type": "stream",
          "name": "stdout",
          "text": [
            "[[10 40]\n",
            " [20 50]\n",
            " [30 60]]\n"
          ]
        }
      ]
    },
    {
      "cell_type": "code",
      "source": [
        "\n",
        "##id\n",
        "\n",
        "a=10\n",
        "b=a\n",
        "c=b\n",
        "\n",
        "##화살표는 어떻게 그렸죠??\n",
        "\n",
        "id(a),id(b),id(c)\n",
        "\n",
        "##id는 해당 변수가 가리키고 있는 최종 목적지"
      ],
      "metadata": {
        "id": "qPe5gxaLdQEW"
      },
      "execution_count": null,
      "outputs": []
    },
    {
      "cell_type": "code",
      "source": [
        "a = 10\n",
        "b =10\n",
        "\n",
        "id(a) ,id(b)   ## 다른언어에서 이 두값은 다른데 실행해보면 같다 그럼 파이썬에서는 같은가요?? 아니요\n",
        "## 아니? 같게 나왔는데 ??\n"
      ],
      "metadata": {
        "colab": {
          "base_uri": "https://localhost:8080/"
        },
        "id": "vAC1jCppd6O3",
        "outputId": "cdfa267e-3714-446e-98c0-0dd292d57e6b"
      },
      "execution_count": null,
      "outputs": [
        {
          "output_type": "execute_result",
          "data": {
            "text/plain": [
              "(136724405621584, 136724405626064)"
            ]
          },
          "metadata": {},
          "execution_count": 32
        }
      ]
    },
    {
      "cell_type": "code",
      "source": [
        "a = 10000\n",
        "b =10000\n",
        "\n",
        "id(a) ,id(b)\n",
        "\n",
        "##다르게 나왔다."
      ],
      "metadata": {
        "colab": {
          "base_uri": "https://localhost:8080/"
        },
        "id": "isxMntNBepr8",
        "outputId": "2cd2e728-2580-4322-cd1d-d45894ffb566"
      },
      "execution_count": null,
      "outputs": [
        {
          "output_type": "execute_result",
          "data": {
            "text/plain": [
              "(136724405620272, 136724405624016)"
            ]
          },
          "metadata": {},
          "execution_count": 33
        }
      ]
    },
    {
      "cell_type": "markdown",
      "source": [
        "# print와 print를 안하는 것의 차이"
      ],
      "metadata": {
        "id": "_f66dQRye9hr"
      }
    },
    {
      "cell_type": "code",
      "source": [
        "\n",
        "# 아직 class를 안배웠지만, 이 차이를 설명하기 위해 잠시 이 코드를 사용하겠습니다.\n",
        "\n",
        "class CustomInt:\n",
        "    def __repr__(self):\n",
        "        return 'hello'\n",
        "\n",
        "    def __str__(self):\n",
        "        return 'hello world'\n",
        "\n",
        "    def __len__(self):\n",
        "        return 100"
      ],
      "metadata": {
        "id": "qWLfZYMLfClX"
      },
      "execution_count": null,
      "outputs": []
    },
    {
      "cell_type": "code",
      "source": [
        "a =CustomInt()\n",
        "a"
      ],
      "metadata": {
        "colab": {
          "base_uri": "https://localhost:8080/"
        },
        "id": "LHX8g5Bwfbbx",
        "outputId": "d40eafd5-4c0c-4a02-b4c5-fee43991949b"
      },
      "execution_count": null,
      "outputs": [
        {
          "output_type": "execute_result",
          "data": {
            "text/plain": [
              "hello"
            ]
          },
          "metadata": {},
          "execution_count": 36
        }
      ]
    },
    {
      "cell_type": "code",
      "source": [
        "print(a)"
      ],
      "metadata": {
        "colab": {
          "base_uri": "https://localhost:8080/"
        },
        "id": "QMBnnxyofgNZ",
        "outputId": "83ea04ae-14c8-41c1-f093-8d01516aa416"
      },
      "execution_count": null,
      "outputs": [
        {
          "output_type": "stream",
          "name": "stdout",
          "text": [
            "hello world\n"
          ]
        }
      ]
    },
    {
      "cell_type": "code",
      "source": [
        "len(a)"
      ],
      "metadata": {
        "colab": {
          "base_uri": "https://localhost:8080/",
          "height": 146
        },
        "id": "qCbdf4-vgiLQ",
        "outputId": "71347990-edfb-4b3d-dae6-063566de3a29"
      },
      "execution_count": null,
      "outputs": [
        {
          "output_type": "error",
          "ename": "TypeError",
          "evalue": "object of type 'CustomInt' has no len()",
          "traceback": [
            "\u001b[0;31m---------------------------------------------------------------------------\u001b[0m",
            "\u001b[0;31mTypeError\u001b[0m                                 Traceback (most recent call last)",
            "\u001b[0;32m<ipython-input-38-1a2e6ec5f1e3>\u001b[0m in \u001b[0;36m<cell line: 0>\u001b[0;34m()\u001b[0m\n\u001b[0;32m----> 1\u001b[0;31m \u001b[0mlen\u001b[0m\u001b[0;34m(\u001b[0m\u001b[0ma\u001b[0m\u001b[0;34m)\u001b[0m\u001b[0;34m\u001b[0m\u001b[0;34m\u001b[0m\u001b[0m\n\u001b[0m",
            "\u001b[0;31mTypeError\u001b[0m: object of type 'CustomInt' has no len()"
          ]
        }
      ]
    },
    {
      "cell_type": "code",
      "source": [
        "a = 10\n",
        "print(type(a))\n",
        "print(a)"
      ],
      "metadata": {
        "colab": {
          "base_uri": "https://localhost:8080/"
        },
        "id": "tvBbkttijBGh",
        "outputId": "b3785560-2d3b-4d8f-ba46-a4459f46839b"
      },
      "execution_count": null,
      "outputs": [
        {
          "output_type": "stream",
          "name": "stdout",
          "text": [
            "<class 'int'>\n",
            "10\n"
          ]
        }
      ]
    },
    {
      "cell_type": "code",
      "source": [
        "# 아직 class를 안배웠지만, 이 차이를 설명하기 위해 잠시 이 코드를 사용하겠습니다.\n",
        "# repr이 있으면 str이 없어도 repr이 대체를 해줍니다!\n",
        "\n",
        "class CustomInt:\n",
        "    def __repr__(self):\n",
        "        return 'hello'\n",
        "\n",
        "test = CustomInt()\n",
        "# test\n",
        "print(test)"
      ],
      "metadata": {
        "id": "4udmCoxcjrzQ"
      },
      "execution_count": null,
      "outputs": []
    },
    {
      "cell_type": "code",
      "source": [
        "# print     -> 해당 인스턴스에 __str__ 호출\n",
        "# 그냥 출력 -> 해당 인스턴스에 __repr__ 호출\n"
      ],
      "metadata": {
        "id": "Bh65KGGYjvk2"
      },
      "execution_count": null,
      "outputs": []
    },
    {
      "cell_type": "code",
      "source": [
        "a = 10\n",
        "dir(a)\n",
        "# a.__repr__() # 그냥 출력! 했을 때 실제 실행되는 함수\n",
        "# a.__str__() # print로 출력! 했을 때 실제 실행되는 함수"
      ],
      "metadata": {
        "id": "IAaCyEsGjx4d"
      },
      "execution_count": null,
      "outputs": []
    },
    {
      "cell_type": "code",
      "source": [
        "a =[1,2,3]\n",
        "b=a\n",
        "id(a) ,id(b)\n",
        "a.append (10)\n",
        "\n",
        "b"
      ],
      "metadata": {
        "colab": {
          "base_uri": "https://localhost:8080/"
        },
        "id": "A2-Ft5IVkN7f",
        "outputId": "be66fd49-9daa-403c-870b-76289ad894d2"
      },
      "execution_count": null,
      "outputs": [
        {
          "output_type": "execute_result",
          "data": {
            "text/plain": [
              "[1, 2, 3, 10]"
            ]
          },
          "metadata": {},
          "execution_count": 43
        }
      ]
    },
    {
      "cell_type": "markdown",
      "source": [
        "# python built-in functions\n",
        "\n",
        "* 링크: https://docs.python.org/3/library/functions.html"
      ],
      "metadata": {
        "id": "SvjHHlyOj6Sx"
      }
    },
    {
      "cell_type": "code",
      "source": [
        "#자주 사용하는 Funtions\n",
        "# 자주 사용하는 functions\n",
        "abs\n",
        "all\n",
        "any\n",
        "bin\n",
        "enumerate\n",
        "len\n",
        "format\n",
        "input\n",
        "range\n",
        "\n",
        "sorted\n",
        "reversed\n",
        "\n",
        "filter\n",
        "map\n",
        "zip\n",
        "\n",
        "# isinstance # class파트에서 해드리겠습니다!\n",
        "# issubclass\n",
        "\n",
        "iter\n",
        "next\n",
        "\n",
        "locals\n",
        "globals\n",
        "\n",
        "max\n",
        "min\n",
        "sum"
      ],
      "metadata": {
        "id": "LQMuhx66lTbe"
      },
      "execution_count": null,
      "outputs": []
    },
    {
      "cell_type": "code",
      "source": [
        "# 자료형을 만드는 built-in functions\n",
        "# int\n",
        "# float\n",
        "# str\n",
        "# complex\n",
        "# list\n",
        "# tuple\n",
        "# dict\n",
        "# set"
      ],
      "metadata": {
        "id": "31khM-9ymDT1"
      },
      "execution_count": null,
      "outputs": []
    },
    {
      "cell_type": "code",
      "source": [
        "abs(-10) # 절대값\n",
        "all([True, True, False]) # 안에 있는 값이 다 True여야 True!\n",
        "any([True, True, False]) # 하나라도 True라면 True!\n",
        "bin(10) # 2진수로 바꿔줍니다. 알고리즘 문제에서 아주 간혹 출제 됩니다.\n",
        "# enumerate\n",
        "# len\n",
        "# format\n",
        "# input\n",
        "# range"
      ],
      "metadata": {
        "id": "bhE23CvLmL62"
      },
      "execution_count": null,
      "outputs": []
    },
    {
      "cell_type": "markdown",
      "source": [
        "#반복문(while)"
      ],
      "metadata": {
        "id": "vc9YU7uG4bFa"
      }
    },
    {
      "cell_type": "code",
      "source": [],
      "metadata": {
        "id": "3tpNUcmFmKBG"
      },
      "execution_count": null,
      "outputs": []
    }
  ]
}